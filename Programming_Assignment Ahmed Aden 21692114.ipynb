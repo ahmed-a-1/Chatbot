{
  "nbformat": 4,
  "nbformat_minor": 0,
  "metadata": {
    "colab": {
      "provenance": [],
      "toc_visible": true
    },
    "kernelspec": {
      "name": "python3",
      "display_name": "Python 3"
    }
  },
  "cells": [
    {
      "cell_type": "markdown",
      "source": [
        "_Department of Computer Science and IT_ | **_La Trobe University, Australia_**\n",
        "\n",
        "---"
      ],
      "metadata": {
        "id": "YG8hSwsEB9Oj"
      }
    },
    {
      "cell_type": "markdown",
      "metadata": {
        "id": "7KaaqKlHjoCO"
      },
      "source": [
        "# Programming Assignment (CSE1PE/PES 2023, Semester 1)"
      ]
    },
    {
      "cell_type": "code",
      "metadata": {
        "id": "27t0IJUEYMTc"
      },
      "source": [
        "STUDENT_NAME = 'Ahmed Aden'\n",
        "STUDENT_ID = '21692114'"
      ],
      "execution_count": null,
      "outputs": []
    },
    {
      "cell_type": "markdown",
      "source": [
        "**A key purpose of this assessment task is to test your own ability to complete the assigned tasks. Therefore, the use of ChatGPT, AI tools or chatbots with similar functionality is prohibited for this assessment task. Students who are found to be in breach of this rule will be subject to normal academic misconduct measures. Additionally, students may be engaged to provide an oral validation of their understanding of their submitted work (e.g. coding).**"
      ],
      "metadata": {
        "id": "4TVu-3hPiqS0"
      }
    },
    {
      "cell_type": "markdown",
      "metadata": {
        "id": "8Qq4WX9LEKdb"
      },
      "source": [
        "## Instructions\n",
        " - Read each task thoroughly multiple times to ensure that you understand the requirements.\n",
        " - Once you understand the task, write your solution in the associated code cell titled \"Your Solution\". Your solution must consist of valid Python code which runs in Google Colab.\n",
        " - Test your solution multiple times, with different values---not just those found in the example runs.\n",
        " - Unless explicitly asked in the task, you are _not_ required to validate user input, i.e. you can assume that the user will enter a valid input value.\n",
        " - Keep in mind that partial attempts at solutions will likely still be worth some marks, so be sure to have a go at writing code for every task. \n",
        "\n",
        "When you have satisfactorily attempted all tasks, confirm that your solution works by resetting the notebook runtime and running your code again---instructions can be found at the bottom of this notebook.\n",
        "\n",
        "The submission for this assignment is the `.ipynb` notebook file. You should export this file and upload it via the link in the LMS---instructions can be found on the assignment submission page. Do not submit your solutions in any other format as they will not be graded."
      ]
    },
    {
      "cell_type": "markdown",
      "source": [
        "## Marking\n",
        "\n",
        "There are a total of 100 marks available for this assignment.\n",
        "\n",
        "- Marks for individual tasks will be awarded according to the totals and criteria listed within each task description. Ensure that you pay close attention to the \"Criteria\" sections as you read through the assignment.\n",
        "- Additionally, up to 15 marks will be awarded based on the overall quality of the submitted code. We will be checking for:\n",
        "  - adherence to instructions,\n",
        "  - deliberate and intentional programming which demonstrates command of the Python language,\n",
        "  - consistency of coding style across solutions, and\n",
        "  - overall readability and clarity of the code.\n",
        "- Late submissions will be penalised according to [University policy](https://policies.latrobe.edu.au/document/view.php?id=148&version=1) (reduction of 5 marks per working day up to a maximum of 5 days, after which point the submission will not be accepted)."
      ],
      "metadata": {
        "id": "iOyteGBNsbzA"
      }
    },
    {
      "cell_type": "markdown",
      "metadata": {
        "id": "rZ6svOhkLpiH"
      },
      "source": [
        "## Frequently Asked Questions\n",
        "\n",
        "> Q: The \"Your Solution\" cell contains some code in it already. Can I change that code however I want?\n",
        "\n",
        "A: No. There are comments which clearly indicate where you should be writing your solution.\n",
        "\n",
        "> Q: Can I import another Python module not mentioned in the assigment to help me write my solution?\n",
        "\n",
        "A: No, only import modules when instructed to.\n",
        "\n",
        "> Q: I want to write the code in a text editor such as Visual Studio Code. Can I submit `.py` files instead of using this notebook?\n",
        "\n",
        "A: No, only `.ipynb` files will be graded---not `.py`, `.txt`, `.pdf`, `.docx`, `.html`, etc. If you really want to write your code in a text editor, ensure that you copy your solutions into the appropriate notebook cells afterwards and run them to make sure that they work correctly. You can then follow the usual submission procedure.\n",
        "\n",
        "> Q: I'm getting ready for submission, but I can't open the downloaded `.ipynb` file on my computer. Is that a problem?\n",
        "\n",
        "A: That's not a problem, we know how to open it to mark your assignment. If you want to double-check the contents of the downloaded `.ipynb` file for your own peace of mind, you can upload it to [Google Colab](https://colab.research.google.com/) and open it there.\n",
        "\n",
        "> Q: There is a mismatch between the precision of values shown in the example runs and my solution's output (e.g. my code prints \"\\$5588.2219172490795\" but the example run shows \"\\$5588.22\"). Is it still possible to achieve full marks with this kind of discrepancy?\n",
        "\n",
        "A: No, you would not receive full marks. Presenting program output in an intentional way is an important programming skill, and demonstrates command of the language. If you are having trouble with formatting output, refer back to Week 6 and \"f-strings\" in particular."
      ]
    },
    {
      "cell_type": "markdown",
      "source": [
        "## Non-Programming Tasks"
      ],
      "metadata": {
        "id": "wdeIDsTGjUEH"
      }
    },
    {
      "cell_type": "markdown",
      "source": [
        "### Task 1: Academic Integrity reflection (5 marks)\n",
        "\n",
        "In order to access this assignment, you were asked to read about an Academic Integrity issue and answer related multiple-choice questions. Before continuing on to the main programming tasks, take a moment to reflect on this issue by answering the questions below. If you have forgotten the details of the scenario, refer back to the LMS quiz as you answer this task.\n",
        "\n",
        "**Questions:** Have any of Ioni, Rohan or Sami engaged in academic misconduct? Explain. Have their choices led to them learning the subject material better? What could be the possible outcomes for Ioni, Rohan and Sami now? What could they have done differently?\n",
        "\n",
        "_Provide your answers by double-clicking on the text cell below and typing your complete response to the questions in no more than 150 words. You will not be marked based on the 'correctness' of your answer. Instead, you will gain marks for showing you have made a genuine attempt to think through these tricky issues, and for expressing your thoughts and reflections clearly._"
      ],
      "metadata": {
        "id": "mUUSFjU2Ceee"
      }
    },
    {
      "cell_type": "markdown",
      "source": [
        "Yes, all three of them have engaged in academic misconduct through allowing careless copying and outsourcing the problem. Their choice have led them to being unable to fully learn the topic. Possible outcomes include being subject to an academic penalty and suspension from the university. They should have worked on the majority of the assignment by themselves and collaborated if they needed help but not the extent of someone else solving the problem. They should not have posted the question on an online forum."
      ],
      "metadata": {
        "id": "NnjJbczED9BB"
      }
    },
    {
      "cell_type": "markdown",
      "source": [
        "## Programming Tasks\n",
        "\n",
        "The theme of this assignment is programming a text-based chatbot, similar to what you might be familiar with in software such as Discord, Telegram, or Slack. Note that we will be working with a \"fake\" chat environment only. That is, we won't actually be integrating with any real service (or connecting the chatbot to the Internet at all), so don't worry about trying things and making mistakes as you work towards your solutions.\n",
        "\n",
        "Take your time to read and re-read the instructions before attempting to write your solution to a task---you can save a lot of trouble by simply having a clear understanding of the problem before touching any code."
      ],
      "metadata": {
        "id": "dI6xzTVWA3mV"
      }
    },
    {
      "cell_type": "markdown",
      "source": [
        "### Task 2: Chatbot !shout command (8 marks)\n",
        "\n",
        "You will be creating a chatbot which responds to user chat messages that begin with an exclamation mark, such as `!hello`. For now we won't worry about actually detecting commands in user input and will instead focus on implementing the behaviour of the chatbot.\n",
        "\n",
        "To begin with, run the code cell below. This code defines two functions, `chat_input()` and `bot_say()`, which you will use throughout the assignment. Understanding the details of the code in this particular cell is not important---suffice to say that these two functions will be used instead of `input()` and `print()` to make a colourful, chat-like display."
      ],
      "metadata": {
        "id": "yXEYByM6Hw5H"
      }
    },
    {
      "cell_type": "code",
      "source": [
        "# Run this cell, but do not edit it.\n",
        "\n",
        "!pip install -q --progress-bar off rich==13.3.2 jedi\n",
        "\n",
        "import rich.console\n",
        "import rich.text\n",
        "import time\n",
        "\n",
        "console = rich.console.Console()\n",
        "\n",
        "def chat_input():\n",
        "    \"\"\"Reads a line of chat input from the user. Use this instead of input().\"\"\"\n",
        "    time.sleep(0.2)\n",
        "    return console.input(rich.text.Text('You:', style='blue bold'))\n",
        "\n",
        "def bot_say(message):\n",
        "    \"\"\"Outputs a message from the chatbot. Use this instead of print().\"\"\"\n",
        "    text = rich.text.Text()\n",
        "    text.append(f'Chatbot:\\n', style='red bold')\n",
        "    text.append(str(message))\n",
        "    console.print(text)\n",
        "\n",
        "print('Functions chat_input() and bot_say() have been defined successfully.')"
      ],
      "metadata": {
        "id": "wp-xcoTgPly0",
        "colab": {
          "base_uri": "https://localhost:8080/"
        },
        "outputId": "417ab5d8-ed8e-4ac7-dc5e-56cbd32dba2f"
      },
      "execution_count": 4,
      "outputs": [
        {
          "output_type": "stream",
          "name": "stdout",
          "text": [
            "Functions chat_input() and bot_say() have been defined successfully.\n"
          ]
        }
      ]
    },
    {
      "cell_type": "markdown",
      "source": [
        "We will implement each chatbot command as a separate function. For example, here is a function defining the behaviour of very simple `!hello` command which displays \"Hello world!\". Run it to see what it does."
      ],
      "metadata": {
        "id": "DV56yzcRJZkx"
      }
    },
    {
      "cell_type": "code",
      "source": [
        "def bot_hello(payload):\n",
        "    bot_say('Hello world!')\n",
        "\n",
        "bot_hello([])"
      ],
      "metadata": {
        "id": "YTFPh2q-KczD",
        "colab": {
          "base_uri": "https://localhost:8080/",
          "height": 49
        },
        "outputId": "2dd04ca4-9102-4ed6-ed3a-a6e932470d5b"
      },
      "execution_count": 5,
      "outputs": [
        {
          "output_type": "display_data",
          "data": {
            "text/plain": [
              "\u001b[1;31mChatbot:\u001b[0m\n",
              "Hello world!\n"
            ],
            "text/html": [
              "<pre style=\"white-space:pre;overflow-x:auto;line-height:normal;font-family:Menlo,'DejaVu Sans Mono',consolas,'Courier New',monospace\"><span style=\"color: #800000; text-decoration-color: #800000; font-weight: bold\">Chatbot:</span>\n",
              "Hello world!\n",
              "</pre>\n"
            ]
          },
          "metadata": {}
        }
      ]
    },
    {
      "cell_type": "markdown",
      "source": [
        "You may have noticed that the function above has a single parameter, `payload`. All of our chatbot command functions will have this parameter, regardless of whether the code in the function body uses it or not. This parameter allows the user to specify additional information to the bot in the form of a list of words (each word is a string). The chatbot can either ignore any additional information (as is the case in `bot_hello()`), or use it.\n",
        "\n",
        "In summary, to implement the behaviour for a command `!something`, you need to define a method called `bot_something()` which has a `payload` parameter. The `payload` parameter represents the list of words typed after the command.\n",
        "\n",
        "Let's now consider a `!shout` command which uses this additional information. If the user types `!shout i love python`, then the function `bot_shout()` will be called with the payload argument `['i', 'love', 'python']`.\n",
        "\n",
        "This enables more interesting bot behaviour based on extra information provided by the user. For example:\n",
        "\n",
        "<font face=\"monospace\">\n",
        "&nbsp;&nbsp;&nbsp;<font color=\"#000080\"><b>You:</b></font>\n",
        "<br/>&nbsp;&nbsp;&nbsp;!shout i love python\n",
        "<br/>&nbsp;&nbsp;&nbsp;<font color=\"#800000\"><b>Chatbot:</b></font>\n",
        "<br/>&nbsp;&nbsp;&nbsp;I LOVE PYTHON\n",
        "</font>\n",
        "\n",
        "Your task is to implement the bot behaviour for `!shout` by writing a function called `bot_shout()`. The function should join the words in `payload` to form a single string, convert that string to uppercase letters, and then display it using `bot_say()`.\n",
        "\n",
        "To join all the separate words in a list together, use the `join()` string method. This method uses the string that `join()` is called on to join all of the words in the list, and returns the result as a single long string. Here's an example of its usage in an interactive Python interpreter session:\n",
        "\n",
        "```python\n",
        ">>> ' '.join(['good', 'day'])\n",
        "'good day'\n",
        ">>> '-'.join(['happy', 'go', 'lucky'])\n",
        "'happy-go-lucky'\n",
        "```\n",
        "\n",
        "There is a line of code at the bottom of the cell which tests the `bot_shout()` function by calling it. It is usually a good idea to test code with multiple different values so that you have more confidence that it is working correctly. Add a second test case below the existing one, but make up a different argument to test with."
      ],
      "metadata": {
        "id": "udt63oUtKp0H"
      }
    },
    {
      "cell_type": "markdown",
      "source": [
        "#### Examples for testing\n",
        "\n",
        "Use the examples below, as well as your own examples, to test your code. The output from your chatbot should exactly match what is shown here.\n",
        "\n",
        "```python\n",
        "bot_shout(['i', 'love', 'python'])\n",
        "```\n",
        "\n",
        "<font face=\"monospace\">\n",
        "&nbsp;&nbsp;&nbsp;<font color=\"#800000\"><b>Chatbot:</b></font>\n",
        "<br/>&nbsp;&nbsp;&nbsp;I LOVE PYTHON\n",
        "</font>\n",
        "\n",
        "```python\n",
        "bot_shout(['Channel', '2', 'is', 'ABC'])\n",
        "```\n",
        "\n",
        "<font face=\"monospace\">\n",
        "&nbsp;&nbsp;&nbsp;<font color=\"#800000\"><b>Chatbot:</b></font>\n",
        "<br/>&nbsp;&nbsp;&nbsp;CHANNEL 2 IS ABC\n",
        "</font>"
      ],
      "metadata": {
        "id": "_39eG3xEOsjL"
      }
    },
    {
      "cell_type": "markdown",
      "source": [
        "#### Criteria\n",
        "\n",
        "- Joins list elements from `payload` to make a single string (2 marks).\n",
        "- Converts the message to uppercase (2 marks).\n",
        "- Correctly displays output by calling the `bot_say()` function (2 marks).\n",
        "- Includes an additional test call to `bot_shout()` with a different (but appropriately typed) argument (2 marks)."
      ],
      "metadata": {
        "id": "UWVNF-ARdYuJ"
      }
    },
    {
      "cell_type": "markdown",
      "metadata": {
        "id": "Iuf8G8i6dDfN"
      },
      "source": [
        "#### Your Solution"
      ]
    },
    {
      "cell_type": "code",
      "source": [
        "def bot_shout(payload):\n",
        "    # Implement the body of the bot_shout() function here.\n",
        "    # Use bot_say() instead of print() to display output.\n",
        "    # Implement the body of the bot_shout() function here\n",
        "    payloadv2 = payload.copy()\n",
        "    \n",
        "    # Uppercase conversion\n",
        "    for i in range(len(payloadv2)):\n",
        "         payloadv2[i] = payloadv2[i].upper()\n",
        "    payloadv2 = \" \".join(payloadv2)\n",
        "    \n",
        "   \n",
        "    \n",
        "\n",
        "    # Use bot_say() instead of print() to display output.\n",
        "    bot_say(payloadv2)\n",
        "    \n",
        "\n",
        "\n",
        "bot_shout(['i', 'love', 'python'])        #=> Chatbot: I LOVE PYTHON\n",
        "bot_shout(['Channel', '2', 'is', 'ABC'])  #=> Chatbot: CHANNEL 2 IS ABC\n",
        "\n",
        "# Add another test call here"
      ],
      "metadata": {
        "id": "6QAnlKF2MTEd",
        "colab": {
          "base_uri": "https://localhost:8080/",
          "height": 81
        },
        "outputId": "3dcad0d2-5b75-417d-c4ce-4e70b71cb799"
      },
      "execution_count": 6,
      "outputs": [
        {
          "output_type": "display_data",
          "data": {
            "text/plain": [
              "\u001b[1;31mChatbot:\u001b[0m\n",
              "I LOVE PYTHON\n"
            ],
            "text/html": [
              "<pre style=\"white-space:pre;overflow-x:auto;line-height:normal;font-family:Menlo,'DejaVu Sans Mono',consolas,'Courier New',monospace\"><span style=\"color: #800000; text-decoration-color: #800000; font-weight: bold\">Chatbot:</span>\n",
              "I LOVE PYTHON\n",
              "</pre>\n"
            ]
          },
          "metadata": {}
        },
        {
          "output_type": "display_data",
          "data": {
            "text/plain": [
              "\u001b[1;31mChatbot:\u001b[0m\n",
              "CHANNEL 2 IS ABC\n"
            ],
            "text/html": [
              "<pre style=\"white-space:pre;overflow-x:auto;line-height:normal;font-family:Menlo,'DejaVu Sans Mono',consolas,'Courier New',monospace\"><span style=\"color: #800000; text-decoration-color: #800000; font-weight: bold\">Chatbot:</span>\n",
              "CHANNEL 2 IS ABC\n",
              "</pre>\n"
            ]
          },
          "metadata": {}
        }
      ]
    },
    {
      "cell_type": "markdown",
      "source": [
        "### Task 3: Chatbot !divide command (10 marks)\n",
        "\n",
        "You will now implement the behaviour for a `!divide` chatbot command. For this command, you may assume that the user always provides two numbers, for example `!divide 1.5 5`. Like the previous task, you only need to define the function and we will worry about accepting user input later.\n",
        "\n",
        "_Hint: The `payload` argument for all of the chatbot commands will always be a list of strings. For the `bot_divide()` function specifically, the first element of this list will be the numerator (as a string) and the second element will be the denominator (as a string). In order to perform division, you will need to convert these elements to another type._\n",
        "\n",
        "When it comes to displaying the result, the chatbot must **show the full equation** with the answer inside it, not just the answer. The numerator and denominator must be displayed exactly as the user typed them, and the answer must be displayed to 4 decimal places. So, if the user wants to divide `10.00` by `2`, then the full chatbot output should be `10.00 / 2 = 5.0000`."
      ],
      "metadata": {
        "id": "pMZqLzl5RkY7"
      }
    },
    {
      "cell_type": "markdown",
      "source": [
        "#### Examples for testing\n",
        "\n",
        "Use the examples below, as well as your own examples, to test your code. The output from your chatbot should exactly match what is shown here.\n",
        "\n",
        "```python\n",
        "bot_divide(['1.5', '5'])\n",
        "```\n",
        "\n",
        "<font face=\"monospace\">\n",
        "&nbsp;&nbsp;&nbsp;<font color=\"#800000\"><b>Chatbot:</b></font>\n",
        "<br/>&nbsp;&nbsp;&nbsp;1.5 / 5 = 0.3000\n",
        "</font>\n",
        "\n",
        "```python\n",
        "bot_divide(['10.00', '2'])\n",
        "```\n",
        "\n",
        "<font face=\"monospace\">\n",
        "&nbsp;&nbsp;&nbsp;<font color=\"#800000\"><b>Chatbot:</b></font>\n",
        "<br/>&nbsp;&nbsp;&nbsp;10.00 / 2 = 5.0000\n",
        "</font>\n",
        "\n",
        "```python\n",
        "bot_divide(['3', '7.0'])\n",
        "```\n",
        "\n",
        "<font face=\"monospace\">\n",
        "&nbsp;&nbsp;&nbsp;<font color=\"#800000\"><b>Chatbot:</b></font>\n",
        "<br/>&nbsp;&nbsp;&nbsp;3 / 7.0 = 0.4286\n",
        "</font>"
      ],
      "metadata": {
        "id": "Aa9eorFXeTuT"
      }
    },
    {
      "cell_type": "markdown",
      "source": [
        "#### Criteria\n",
        "\n",
        "- Uses data from the payload to determine the numerator and denominator of the division. (3 marks)\n",
        "- Performs division using an appropriate expression. (1 mark)\n",
        "- Converts elements in the payload to an appropriate type. (2 marks)\n",
        "- Displays the result as an equation using the `bot_say()` function. (2 marks)\n",
        "- Displays the numerator and denominator in the output exactly as the user typed them, but the answer to 4 decimal places (see examples). (2 marks)"
      ],
      "metadata": {
        "id": "mfmCzoCObAG3"
      }
    },
    {
      "cell_type": "markdown",
      "metadata": {
        "id": "s6lcD2ahhvZT"
      },
      "source": [
        "#### Your Solution"
      ]
    },
    {
      "cell_type": "code",
      "source": [
        "\n",
        "\n",
        "def bot_divide(payload):\n",
        "    # Implement the body of the bot_divide() function here\n",
        "    answer = float(payload[0]) / float(payload[1])\n",
        "    bot_say(f\"{answer:.4f}\")\n",
        "    \n",
        "\n",
        "\n",
        "bot_divide(['1.5', '5'])    #=> Chatbot: 1.5 / 5 = 0.3000\n",
        "bot_divide(['10.00', '2'])  #=> Chatbot: 10.00 / 2 = 5.000\n",
        "bot_divide(['3', '7.0'])    #=> Chatbot: 3 / 7.0 = 0.4286"
      ],
      "metadata": {
        "id": "P76cbisMhvZU",
        "colab": {
          "base_uri": "https://localhost:8080/",
          "height": 113
        },
        "outputId": "1dced6c8-6563-45a5-b55b-16d23a37c141"
      },
      "execution_count": 7,
      "outputs": [
        {
          "output_type": "display_data",
          "data": {
            "text/plain": [
              "\u001b[1;31mChatbot:\u001b[0m\n",
              "0.3000\n"
            ],
            "text/html": [
              "<pre style=\"white-space:pre;overflow-x:auto;line-height:normal;font-family:Menlo,'DejaVu Sans Mono',consolas,'Courier New',monospace\"><span style=\"color: #800000; text-decoration-color: #800000; font-weight: bold\">Chatbot:</span>\n",
              "0.3000\n",
              "</pre>\n"
            ]
          },
          "metadata": {}
        },
        {
          "output_type": "display_data",
          "data": {
            "text/plain": [
              "\u001b[1;31mChatbot:\u001b[0m\n",
              "5.0000\n"
            ],
            "text/html": [
              "<pre style=\"white-space:pre;overflow-x:auto;line-height:normal;font-family:Menlo,'DejaVu Sans Mono',consolas,'Courier New',monospace\"><span style=\"color: #800000; text-decoration-color: #800000; font-weight: bold\">Chatbot:</span>\n",
              "5.0000\n",
              "</pre>\n"
            ]
          },
          "metadata": {}
        },
        {
          "output_type": "display_data",
          "data": {
            "text/plain": [
              "\u001b[1;31mChatbot:\u001b[0m\n",
              "0.4286\n"
            ],
            "text/html": [
              "<pre style=\"white-space:pre;overflow-x:auto;line-height:normal;font-family:Menlo,'DejaVu Sans Mono',consolas,'Courier New',monospace\"><span style=\"color: #800000; text-decoration-color: #800000; font-weight: bold\">Chatbot:</span>\n",
              "0.4286\n",
              "</pre>\n"
            ]
          },
          "metadata": {}
        }
      ]
    },
    {
      "cell_type": "markdown",
      "source": [
        "### Task 4: Chatbot !count command (12 marks)\n",
        "\n",
        "Implement the behaviour for a `!count` chatbot command. Like `!divide`, you may assume that the user always provides two numbers. However, in this case they will also be whole numbers. The first of these numbers represents the value to start counting from. The second number represents how many times to count. The bot always counts by ones in ascending order (e.g. 2, 3, 4, 5 when starting at 2 and counting 4 times).\n",
        "\n",
        "If the payload contains only one number, that number represents how many times to count and the bot should count up from 1. I recommend solving the task without this feature first, and then adding it afterwards."
      ],
      "metadata": {
        "id": "CcfPQsuPSLm-"
      }
    },
    {
      "cell_type": "markdown",
      "source": [
        "#### Examples for testing\n",
        "\n",
        "Use the examples below, as well as your own examples, to test your code. The output from your chatbot should exactly match what is shown here.\n",
        "\n",
        "```python\n",
        "bot_count(['10', '3'])\n",
        "```\n",
        "\n",
        "<font face=\"monospace\">\n",
        "&nbsp;&nbsp;&nbsp;<font color=\"#800000\"><b>Chatbot:</b></font>\n",
        "<br/>&nbsp;&nbsp;&nbsp;10\n",
        "<br/>&nbsp;&nbsp;&nbsp;<font color=\"#800000\"><b>Chatbot:</b></font>\n",
        "<br/>&nbsp;&nbsp;&nbsp;11\n",
        "<br/>&nbsp;&nbsp;&nbsp;<font color=\"#800000\"><b>Chatbot:</b></font>\n",
        "<br/>&nbsp;&nbsp;&nbsp;12\n",
        "</font>\n",
        "\n",
        "```python\n",
        "bot_count(['2'])\n",
        "```\n",
        "\n",
        "<font face=\"monospace\">\n",
        "&nbsp;&nbsp;&nbsp;<font color=\"#800000\"><b>Chatbot:</b></font>\n",
        "<br/>&nbsp;&nbsp;&nbsp;1\n",
        "<br/>&nbsp;&nbsp;&nbsp;<font color=\"#800000\"><b>Chatbot:</b></font>\n",
        "<br/>&nbsp;&nbsp;&nbsp;2\n",
        "</font>"
      ],
      "metadata": {
        "id": "UvWtwJJ9ncSL"
      }
    },
    {
      "cell_type": "markdown",
      "source": [
        "#### Criteria\n",
        "\n",
        "- Correct function definition. (2 marks)\n",
        "- Converts elements in the payload to an appropriate type. (2 marks)\n",
        "- Uses a loop to repeatedly call `bot_say()`. (2 marks)\n",
        "- The loop repeats the correct number of times. (2 marks)\n",
        "- The correct numbers are displayed, with one number per chatbot message. (2 marks)\n",
        "- The bot correctly counts up from one when only a single value is provided in the payload. (2 marks)"
      ],
      "metadata": {
        "id": "5TQaDppuyGBg"
      }
    },
    {
      "cell_type": "markdown",
      "metadata": {
        "id": "BUJrCFdXnqTe"
      },
      "source": [
        "#### Your Solution"
      ]
    },
    {
      "cell_type": "code",
      "source": [
        "# Write your bot_count() function here.\n",
        "def bot_count(payload):\n",
        "    start = int(payload[0])\n",
        "    if len(payload) > 1:\n",
        "        end = start + int(payload[1])\n",
        "    else:\n",
        "        end = start + 1\n",
        "        start = 1   # set start to 1 if only one element is provided in payload\n",
        "    for i in range(start, end):\n",
        "        bot_say(i)\n",
        "\n",
        "\n",
        "bot_count(['10', '3'])  #=> Chatbot: 10, Chatbot: 11, Chatbot: 12\n",
        "bot_count(['2'])        #=> Chatbot: 1, Chatbot: 2"
      ],
      "metadata": {
        "id": "aZGVlfs7nqTf",
        "colab": {
          "base_uri": "https://localhost:8080/",
          "height": 177
        },
        "outputId": "624dffde-854d-4f8e-d533-a0dbc9957d5f"
      },
      "execution_count": 10,
      "outputs": [
        {
          "output_type": "display_data",
          "data": {
            "text/plain": [
              "\u001b[1;31mChatbot:\u001b[0m\n",
              "10\n"
            ],
            "text/html": [
              "<pre style=\"white-space:pre;overflow-x:auto;line-height:normal;font-family:Menlo,'DejaVu Sans Mono',consolas,'Courier New',monospace\"><span style=\"color: #800000; text-decoration-color: #800000; font-weight: bold\">Chatbot:</span>\n",
              "10\n",
              "</pre>\n"
            ]
          },
          "metadata": {}
        },
        {
          "output_type": "display_data",
          "data": {
            "text/plain": [
              "\u001b[1;31mChatbot:\u001b[0m\n",
              "11\n"
            ],
            "text/html": [
              "<pre style=\"white-space:pre;overflow-x:auto;line-height:normal;font-family:Menlo,'DejaVu Sans Mono',consolas,'Courier New',monospace\"><span style=\"color: #800000; text-decoration-color: #800000; font-weight: bold\">Chatbot:</span>\n",
              "11\n",
              "</pre>\n"
            ]
          },
          "metadata": {}
        },
        {
          "output_type": "display_data",
          "data": {
            "text/plain": [
              "\u001b[1;31mChatbot:\u001b[0m\n",
              "12\n"
            ],
            "text/html": [
              "<pre style=\"white-space:pre;overflow-x:auto;line-height:normal;font-family:Menlo,'DejaVu Sans Mono',consolas,'Courier New',monospace\"><span style=\"color: #800000; text-decoration-color: #800000; font-weight: bold\">Chatbot:</span>\n",
              "12\n",
              "</pre>\n"
            ]
          },
          "metadata": {}
        },
        {
          "output_type": "display_data",
          "data": {
            "text/plain": [
              "\u001b[1;31mChatbot:\u001b[0m\n",
              "1\n"
            ],
            "text/html": [
              "<pre style=\"white-space:pre;overflow-x:auto;line-height:normal;font-family:Menlo,'DejaVu Sans Mono',consolas,'Courier New',monospace\"><span style=\"color: #800000; text-decoration-color: #800000; font-weight: bold\">Chatbot:</span>\n",
              "1\n",
              "</pre>\n"
            ]
          },
          "metadata": {}
        },
        {
          "output_type": "display_data",
          "data": {
            "text/plain": [
              "\u001b[1;31mChatbot:\u001b[0m\n",
              "2\n"
            ],
            "text/html": [
              "<pre style=\"white-space:pre;overflow-x:auto;line-height:normal;font-family:Menlo,'DejaVu Sans Mono',consolas,'Courier New',monospace\"><span style=\"color: #800000; text-decoration-color: #800000; font-weight: bold\">Chatbot:</span>\n",
              "2\n",
              "</pre>\n"
            ]
          },
          "metadata": {}
        }
      ]
    },
    {
      "cell_type": "markdown",
      "source": [
        "### Task 5: Chatbot !topic command (15 marks)\n",
        "\n",
        "Implement behaviour for a `!topic` command which displays the name of one of the twelve topics in CSE1PE/PES.\n",
        "\n",
        "You can find the topic names by referring to the Subject Learning Guide or the weekly sections on LMS. For example, the name of topic 1 is \"Algorithms and Flowcharts\". You will need to define a list constant which contains all of the topic names in order. You are _not_ to include the word \"Topic\" or the topic numbers in the list (i.e. do not put \"Topic 1: Algorithms and Flowcharts\" in the list, put \"Algorithms and Flowcharts\" instead). The topic number should be added dynamically by the program instead (per the flowchart).\n",
        "\n",
        "The behaviour of the `!topic` command is described in the flowchart below. Your solution should implement this algorithm as closely as possible.\n",
        "\n",
        "![Task 5 flowchart](data:image/png;base64,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)\n",
        "\n",
        "Note that one of the steps the flowchart involves generating a random number. You must import and make use of the `random` module from the Python Standard Library to do this. Consult [the documentation for the `random` module](https://docs.python.org/3/library/random.html) and select an appropriate function to use for this part of your solution. For information about importing modules, refer to Topic 9."
      ],
      "metadata": {
        "id": "BjAQOSwkSPns"
      }
    },
    {
      "cell_type": "markdown",
      "source": [
        "#### Examples for testing\n",
        "\n",
        "Use the examples below, as well as your own examples, to test your code. The output from your chatbot should exactly match what is shown here.\n",
        "\n",
        "```python\n",
        "bot_topic(['1'])\n",
        "```\n",
        "\n",
        "<font face=\"monospace\">\n",
        "&nbsp;&nbsp;&nbsp;<font color=\"#800000\"><b>Chatbot:</b></font>\n",
        "<br/>&nbsp;&nbsp;&nbsp;Topic 1: Algorithms and Flowcharts\n",
        "</font>\n",
        "\n",
        "```python\n",
        "bot_topic([])\n",
        "```\n",
        "\n",
        "<font face=\"monospace\">\n",
        "&nbsp;&nbsp;&nbsp;<font color=\"#800000\"><b>Chatbot:</b></font>\n",
        "<br/>&nbsp;&nbsp;&nbsp;Topic 7: Data Structures\n",
        "</font>\n",
        "\n",
        "(Note: for this last example the selected topic is meant to be random, so your code should display different topics across different runs)."
      ],
      "metadata": {
        "id": "JSQPBrG3zkV9"
      }
    },
    {
      "cell_type": "markdown",
      "source": [
        "#### Criteria\n",
        "\n",
        "- Correct definition of the list constant. (4 marks)\n",
        "- Correct function definition. (2 marks)\n",
        "- Generates a random number in the correct range using the `random` module. (3 marks)\n",
        "- Indexes the list constant correctly to get the topic name. (2 marks)\n",
        "- Program behaviour otherwise matches the flowchart. (4 marks)"
      ],
      "metadata": {
        "id": "E3NmE6NryZtP"
      }
    },
    {
      "cell_type": "markdown",
      "metadata": {
        "id": "mDh_yGnj0DCW"
      },
      "source": [
        "#### Your Solution"
      ]
    },
    {
      "cell_type": "code",
      "source": [
        "# Add your import statement here.\n",
        "import random\n",
        "# list constant\n",
        "topics_list = [\"non-topic element\", \"Algorithms and Flowcharts\", \"Statements and Expressions\", \"Booleans and Conditional Execution\", \"Iteration\", \"Functions and Objects\", \"Strings and Files\", \"Data Structures\", \"Software Errors\", \"Using Modules\"]\n",
        "#bot topic function\n",
        "def bot_topic(payload):\n",
        "\n",
        "# Returns the list as integer as well as generating a random number in case of an empty list\n",
        "    if payload == []:\n",
        "        x = (random.randint(1,9))  \n",
        "    else:\n",
        "        x = payload[0]\n",
        "    x = int(x)\n",
        "\n",
        "# Looks through topic_list corresponding to the topic number\n",
        "    y = topics_list[x]\n",
        "# prints (x, y) with fstring formatting to get output\n",
        "    bot_say(f\"Topic {x}: {y}\")\n",
        "\n",
        "    \n",
        "\n",
        "    \n",
        "    \n",
        "    \n",
        "\n",
        "\n",
        "   \n",
        "\n",
        "    \n",
        "    \n",
        "\n",
        "        \n",
        "\n",
        "\n",
        "\n",
        "\n",
        "bot_topic(['1'])  #=> Chatbot: Topic 1: Algorithms and Flowcharts\n",
        "bot_topic([])     #=> Random. For example, Chatbot: Topic 7: Data Structures "
      ],
      "metadata": {
        "id": "ug-nle6A0DCX",
        "colab": {
          "base_uri": "https://localhost:8080/",
          "height": 81
        },
        "outputId": "5a7dd9de-54f2-4a88-f3be-52e1544613af"
      },
      "execution_count": 11,
      "outputs": [
        {
          "output_type": "display_data",
          "data": {
            "text/plain": [
              "\u001b[1;31mChatbot:\u001b[0m\n",
              "Topic 1: Algorithms and Flowcharts\n"
            ],
            "text/html": [
              "<pre style=\"white-space:pre;overflow-x:auto;line-height:normal;font-family:Menlo,'DejaVu Sans Mono',consolas,'Courier New',monospace\"><span style=\"color: #800000; text-decoration-color: #800000; font-weight: bold\">Chatbot:</span>\n",
              "Topic 1: Algorithms and Flowcharts\n",
              "</pre>\n"
            ]
          },
          "metadata": {}
        },
        {
          "output_type": "display_data",
          "data": {
            "text/plain": [
              "\u001b[1;31mChatbot:\u001b[0m\n",
              "Topic 8: Software Errors\n"
            ],
            "text/html": [
              "<pre style=\"white-space:pre;overflow-x:auto;line-height:normal;font-family:Menlo,'DejaVu Sans Mono',consolas,'Courier New',monospace\"><span style=\"color: #800000; text-decoration-color: #800000; font-weight: bold\">Chatbot:</span>\n",
              "Topic 8: Software Errors\n",
              "</pre>\n"
            ]
          },
          "metadata": {}
        }
      ]
    },
    {
      "cell_type": "markdown",
      "source": [
        "### Task 6: Chatbot command processor (15 marks)\n",
        "\n",
        "Now that we have a few different chatbot command behaviours implemented, let's start tying everything together. We will do this in two parts. In this task, we will write a function which *dispatches* commands. That is, it looks at a command and determines which bot function to call. In the next task, we will use this function to build a simple simulated chat system with user input.\n",
        "\n",
        "Firstly, create a dictionary constant which associates command names (strings) with function objects (command behaviours). For example, the key/value for the hello command should be `'!hello': bot_hello`. Importantly, the value should be the function name only (no brackets afterwards), otherwise Python will attempt to call the function during definition of the dictionary. There should be five commands in total from previous tasks.\n",
        "\n",
        "Next, define a function called `dispatch_bot_command`. This function should have two parameters: the first is the name of the command (e.g. `\"!shout\"`), and the second is the payload (e.g. `[\"i\", \"love\", \"python\"]`). The code inside the function should check whether the command is in the dictionary constant. If it is, it should call the associated function. If it is not, the bot should say \"Unknown command\" and the name of the unrecognised command.\n",
        "\n",
        "_Hint: A function can be stored in a variable (or dictionary) just like any other kind of object, and can be called using that variable name instead of the function name. So if you retrieve a function from a dictionary and store it in a variable called `my_function`, you can call it using `my_function(...)`._"
      ],
      "metadata": {
        "id": "qJeWylPnSS68"
      }
    },
    {
      "cell_type": "markdown",
      "source": [
        "#### Examples for testing\n",
        "\n",
        "Use the examples below, as well as your own examples, to test your code. The output from your chatbot should exactly match what is shown here.\n",
        "\n",
        "```python\n",
        "dispatch_bot_command('!hello', [])\n",
        "```\n",
        "\n",
        "<font face=\"monospace\">\n",
        "&nbsp;&nbsp;&nbsp;<font color=\"#800000\"><b>Chatbot:</b></font>\n",
        "<br/>&nbsp;&nbsp;&nbsp;Hello world!\n",
        "</font>\n",
        "\n",
        "```python\n",
        "dispatch_bot_command('!topic', ['5'])\n",
        "```\n",
        "\n",
        "<font face=\"monospace\">\n",
        "&nbsp;&nbsp;&nbsp;<font color=\"#800000\"><b>Chatbot:</b></font>\n",
        "<br/>&nbsp;&nbsp;&nbsp;Topic 5: Functions and Objects\n",
        "</font>\n",
        "\n",
        "```python\n",
        "dispatch_bot_command('!fake', [])\n",
        "```\n",
        "\n",
        "<font face=\"monospace\">\n",
        "&nbsp;&nbsp;&nbsp;<font color=\"#800000\"><b>Chatbot:</b></font>\n",
        "<br/>&nbsp;&nbsp;&nbsp;Unknown command !fake\n",
        "</font>"
      ],
      "metadata": {
        "id": "qAQTcLrHg2XS"
      }
    },
    {
      "cell_type": "markdown",
      "source": [
        "#### Criteria\n",
        "\n",
        "- Correct definition of the dictionary constant. (5 marks)\n",
        "- Correct function definition. (2 marks)\n",
        "- Correct function behaviour. (4 marks)\n",
        "- Function uses the dictionary to look up the function object associated with a command name. (2 marks)\n",
        "- Appropriate output is produced for unknown commands. (2 marks)"
      ],
      "metadata": {
        "id": "7cQaMMrmRvdn"
      }
    },
    {
      "cell_type": "markdown",
      "metadata": {
        "id": "3Xbisjs6Wxu7"
      },
      "source": [
        "#### Your Solution"
      ]
    },
    {
      "cell_type": "code",
      "source": [
        "# Write your solution here.\n",
        "my_dict = {\"!hello\": bot_hello, \"!topic\": bot_topic, \"!count\": bot_count, \"!divide\": bot_divide, \"!shout\": bot_shout}\n",
        "\n",
        "# print(my_dict[\"!hello\"]([]))\n",
        "#dispatch bot\n",
        "def dispatch_bot_command(name, payload):\n",
        "    if name in my_dict:\n",
        "        return my_dict[name](payload)\n",
        "    else:\n",
        "        bot_say(f\"Unknown command {name}\")\n",
        "    \n",
        "\n",
        "\n",
        "dispatch_bot_command('!hello', [])     #=> Chatbot: Hello world!\n",
        "dispatch_bot_command('!topic', ['5'])  #=> Chatbot: Topic 5: Functions and Objects\n",
        "dispatch_bot_command('!fake', [])      #=> Chatbot: Unknown command !fake"
      ],
      "metadata": {
        "id": "k3HpYHXdWxu_",
        "colab": {
          "base_uri": "https://localhost:8080/",
          "height": 113
        },
        "outputId": "6522aac3-e808-48aa-9dc1-3f5f74b5a588"
      },
      "execution_count": 12,
      "outputs": [
        {
          "output_type": "display_data",
          "data": {
            "text/plain": [
              "\u001b[1;31mChatbot:\u001b[0m\n",
              "Hello world!\n"
            ],
            "text/html": [
              "<pre style=\"white-space:pre;overflow-x:auto;line-height:normal;font-family:Menlo,'DejaVu Sans Mono',consolas,'Courier New',monospace\"><span style=\"color: #800000; text-decoration-color: #800000; font-weight: bold\">Chatbot:</span>\n",
              "Hello world!\n",
              "</pre>\n"
            ]
          },
          "metadata": {}
        },
        {
          "output_type": "display_data",
          "data": {
            "text/plain": [
              "\u001b[1;31mChatbot:\u001b[0m\n",
              "Topic 5: Functions and Objects\n"
            ],
            "text/html": [
              "<pre style=\"white-space:pre;overflow-x:auto;line-height:normal;font-family:Menlo,'DejaVu Sans Mono',consolas,'Courier New',monospace\"><span style=\"color: #800000; text-decoration-color: #800000; font-weight: bold\">Chatbot:</span>\n",
              "Topic 5: Functions and Objects\n",
              "</pre>\n"
            ]
          },
          "metadata": {}
        },
        {
          "output_type": "display_data",
          "data": {
            "text/plain": [
              "\u001b[1;31mChatbot:\u001b[0m\n",
              "Unknown command !fake\n"
            ],
            "text/html": [
              "<pre style=\"white-space:pre;overflow-x:auto;line-height:normal;font-family:Menlo,'DejaVu Sans Mono',consolas,'Courier New',monospace\"><span style=\"color: #800000; text-decoration-color: #800000; font-weight: bold\">Chatbot:</span>\n",
              "Unknown command !fake\n",
              "</pre>\n"
            ]
          },
          "metadata": {}
        }
      ]
    },
    {
      "cell_type": "markdown",
      "source": [
        "### Task 7: Interactive chat loop (20 marks)"
      ],
      "metadata": {
        "id": "5xnG3TG2Sb1C"
      }
    },
    {
      "cell_type": "markdown",
      "source": [
        "Implement an interactive loop which repeatedly asks for chat input, with the chatbot processing commands when appropriate. Your code should match the logic of the flowchart shown below:\n",
        "\n",
        "![Task 7 flowchart](data:image/png;base64,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)\n",
        "\n",
        "Instead of using the `input()` function to ask for user input, you should use the `chat_input()` function which has been defined for you already. This will result in a nicer looking chat log with colours. Here's an example of how to accept a line of input using this function:\n",
        "\n",
        "```python\n",
        "line = chat_input()\n",
        "```\n",
        "\n",
        "To split the line into a list of individual words, use the `split()` string method. Here's an example:\n",
        "\n",
        "```python\n",
        ">>> 'These are words'.split(' ')\n",
        "['These', 'are', 'words']\n",
        "```\n",
        "\n",
        "_Note: If you run the code and it displays \"You:\" in blue text but no input text box appears, stop the code execution by clicking the stop symbol at the top-left of the cell and try running it again._"
      ],
      "metadata": {
        "id": "rtYoRX28d1A1"
      }
    },
    {
      "cell_type": "markdown",
      "source": [
        "#### Examples for testing\n",
        "\n",
        "Use the examples below, as well as your own examples, to test your code. The output from your chatbot should exactly match what is shown here.\n",
        "\n",
        "##### Example 1\n",
        "\n",
        "<font face=\"monospace\">\n",
        "&nbsp;&nbsp;&nbsp;<font color=\"#000080\"><b>You:</b></font>\n",
        "<br/>&nbsp;&nbsp;&nbsp;I'm here!\n",
        "<br/>&nbsp;&nbsp;&nbsp;<font color=\"#000080\"><b>You:</b></font>\n",
        "<br/>&nbsp;&nbsp;&nbsp;!shout hooray\n",
        "<br/>&nbsp;&nbsp;&nbsp;<font color=\"#800000\"><b>Chatbot:</b></font>\n",
        "<br/>&nbsp;&nbsp;&nbsp;HOORAY\n",
        "<br/>&nbsp;&nbsp;&nbsp;<font color=\"#000080\"><b>You:</b></font>\n",
        "<br/>&nbsp;&nbsp;&nbsp;!quit\n",
        "</font>\n",
        "\n",
        "##### Example 2\n",
        "\n",
        "<font face=\"monospace\">\n",
        "&nbsp;&nbsp;&nbsp;<font color=\"#000080\"><b>You:</b></font>\n",
        "<br/>&nbsp;&nbsp;&nbsp;!HELLO\n",
        "<br/>&nbsp;&nbsp;&nbsp;<font color=\"#800000\"><b>Chatbot:</b></font>\n",
        "<br/>&nbsp;&nbsp;&nbsp;Hello world!\n",
        "<br/>&nbsp;&nbsp;&nbsp;<font color=\"#000080\"><b>You:</b></font>\n",
        "<br/>&nbsp;&nbsp;&nbsp;!QUIT\n",
        "</font>"
      ],
      "metadata": {
        "id": "DHJ-8yp5hQg3"
      }
    },
    {
      "cell_type": "markdown",
      "source": [
        "#### Criteria\n",
        "\n",
        "- Repeatedly asks for user input using `chat_input()`. (4 marks)\n",
        "- Case insensitive command recognition. (2 marks)\n",
        "- Finishes gracefully on `!quit` command. (4 marks)\n",
        "- Uses the `dispatch_bot_command()` function to dispatch other commands. (4 marks)\n",
        "- Program behaviour otherwise matches the flowchart. (6 marks)"
      ],
      "metadata": {
        "id": "mzEZwu9_V1Ey"
      }
    },
    {
      "cell_type": "markdown",
      "metadata": {
        "id": "FvW2NjNUW5Pg"
      },
      "source": [
        "#### Your Solution"
      ]
    },
    {
      "cell_type": "code",
      "source": [
        "# Write your solution here.\n",
        "# make def func to make a chat interactive loop\n",
        "\n",
        "\n",
        "\n",
        "def interactive_loop():\n",
        "    while True:\n",
        "        line = chat_input()\n",
        "        line = line.split(' ')\n",
        "        if line == \"\":\n",
        "            continue  \n",
        "        else: \n",
        "            line = [c.lower() for c in line] \n",
        "            payload = line.copy()       \n",
        "        for char in line[0]:\n",
        "            if char[0] == \"!\":\n",
        "                if line[0] == \"!quit\":\n",
        "                    return\n",
        "                else:\n",
        "                    payload.pop(0)\n",
        "                    dispatch_bot_command(line[0], payload)\n",
        "\n",
        "\n",
        "interactive_loop()\n",
        "            \n",
        "\n",
        "\n",
        "        \n"
      ],
      "metadata": {
        "id": "GdXFcs5KW5Ph",
        "colab": {
          "base_uri": "https://localhost:8080/",
          "height": 149
        },
        "outputId": "ad789ebc-3521-4d71-e310-cc90351d87c8"
      },
      "execution_count": 23,
      "outputs": [
        {
          "output_type": "display_data",
          "data": {
            "text/plain": [
              "\u001b[1;34mYou:\u001b[0m"
            ],
            "text/html": [
              "<pre style=\"white-space:pre;overflow-x:auto;line-height:normal;font-family:Menlo,'DejaVu Sans Mono',consolas,'Courier New',monospace\"><span style=\"color: #000080; text-decoration-color: #000080; font-weight: bold\">You:</span></pre>\n"
            ]
          },
          "metadata": {}
        },
        {
          "name": "stdout",
          "output_type": "stream",
          "text": [
            "hello\n"
          ]
        },
        {
          "output_type": "display_data",
          "data": {
            "text/plain": [
              "\u001b[1;34mYou:\u001b[0m"
            ],
            "text/html": [
              "<pre style=\"white-space:pre;overflow-x:auto;line-height:normal;font-family:Menlo,'DejaVu Sans Mono',consolas,'Courier New',monospace\"><span style=\"color: #000080; text-decoration-color: #000080; font-weight: bold\">You:</span></pre>\n"
            ]
          },
          "metadata": {}
        },
        {
          "name": "stdout",
          "output_type": "stream",
          "text": [
            "!hello\n"
          ]
        },
        {
          "output_type": "display_data",
          "data": {
            "text/plain": [
              "\u001b[1;31mChatbot:\u001b[0m\n",
              "Hello world!\n"
            ],
            "text/html": [
              "<pre style=\"white-space:pre;overflow-x:auto;line-height:normal;font-family:Menlo,'DejaVu Sans Mono',consolas,'Courier New',monospace\"><span style=\"color: #800000; text-decoration-color: #800000; font-weight: bold\">Chatbot:</span>\n",
              "Hello world!\n",
              "</pre>\n"
            ]
          },
          "metadata": {}
        },
        {
          "output_type": "display_data",
          "data": {
            "text/plain": [
              "\u001b[1;34mYou:\u001b[0m"
            ],
            "text/html": [
              "<pre style=\"white-space:pre;overflow-x:auto;line-height:normal;font-family:Menlo,'DejaVu Sans Mono',consolas,'Courier New',monospace\"><span style=\"color: #000080; text-decoration-color: #000080; font-weight: bold\">You:</span></pre>\n"
            ]
          },
          "metadata": {}
        },
        {
          "name": "stdout",
          "output_type": "stream",
          "text": [
            "!quit\n"
          ]
        }
      ]
    },
    {
      "cell_type": "markdown",
      "metadata": {
        "id": "-JEuLXs-ZZig"
      },
      "source": [
        "---"
      ]
    },
    {
      "cell_type": "markdown",
      "metadata": {
        "id": "Q95BwE3DWwao"
      },
      "source": [
        "## Resetting the Notebook Runtime\n",
        "Due to the nature of notebooks, old variables, classes and functions may still be accessible even after they have been removed from the code. This may result in unexpected program behaviour.\n",
        "\n",
        "To ensure that this isn't the case, you can reset the runtime to reset the Python interpreter state. After doing so, you should run your solutions again to ensure they function correctly.\n",
        "\n",
        "To reset the runtime, click the \"Runtime\" button in the menu at the top, then click \"Restart runtime\". Then, click \"yes\" in the following warning.\n",
        "\n",
        "![Restart_runtime.png](data:image/png;base64,iVBORw0KGgoAAAANSUhEUgAAAREAAAGXCAIAAAAbH/McAAAAAXNSR0IB2cksfwAAAAlwSFlzAAALEwAACxMBAJqcGAAASLZJREFUeJztvXtYE9fe6O9f5/yxn32e57fP++6ze3m34laHqo3XQN8adVdw79eUnkq1x9hWKVRiBVMUQ0tMQcRWQItaUdwFaUXRgmmLUm+89YKigFJR0YhgpFzklnBJuI7hMr+1ZnKZhAlkVMKl38/D08JkZs2ayfrMd60V813jKIrqo+kdnTCVpwDAVYxDza6np6e7u9s4OkE1R/Vn5Bnumwn8LhiHml3Z6AddBTIHtAFcwLiuri7U5oa7Gs8Eqj+6CqQNijbDXRdg7DOura1tDDiDroIkSQg1gAsY19LSMgacQVfR2dmJxjbgDDDUjGtqahoDzqCr6OjogO4Z4ALG6XS6MeAMuor29nZwBnABY8cZNKQBZwAX4NgZbcYHbhPdTLw6Wxy4J6f+mU/Xekkmmqa82vXMBbFx6Ix692LrJVghoot5nuGqQvDK8uye51BXbcb7hCisiF2U7rivYKqy0PEx5DnpzPHKq8/h7DZ03T30+cZd5+tYmwxXDny64+cq/GvZDxGbv7lLDl5MZ9E3iu3HKn5Hj6qBnHmfEAZllWk0mkfqgkzluwJiyefqp7g1Jbu8pv0zzfTW1GV/96/n4J4NjuNM62MN5pHm+48Id9+0UvovTaXBiaZgw1h0pvPOt4pPw8LifmqwzpqAM84wsDPsd7c8WTzdPXqAt9YRNs4MBU70za5uJJ6l0Y9BZ4yF3yl3fJ95QLntdLVlIzjjDM47Q12SzfqD9AxJy7MwpcK0NV8pJNacoPoow4kAwuvTtMR1Yk/CjfCURP2i7WP3jv4/cVIF++3PCZsuXBObuM5b6E4Qc5cozzzSnIr0XUAQxDTR6t35LabyyZIT8uXzBe5TBItWRp+toDh4Kmda76Zs9MGnFnhKFD9oOgfcznam5mJ0wGKB+wRCsMAvBl8jLwZ1pvr8dsniGQQxXbQ0NKuM7sRab9q96MUvSRRf+qEd3CYJlwaryp62l9t2+8DnX5ys7ixM/nRHZpV566DOkBUFxxJiIhRh4Vv3Hil8bKSwM0mKrakXTx/eEakIU0QmnFC3mu5Jy4OzKTuiFWFhn21HO9cZ6Y01P8bJk88X/bg/BhUSEZecV81sp4zaW2l7onHJ8akXT+5X7DAFQGNtUTraWREesT3h5B2dqSLN909+g+uhiIhNtp6RVc+rx3bhU6PSvrOcorP2OiqKPiom+XxpJzqq6vT2zV9d0ZsOqzm3U7H3QhMurQNXHl/Rll1HLlZ0mHZoUp9IiHHeGd1xiYB+5xw68xHxNzev4EP598qLftwomvRXuh08MdyO8ZqG9ifx/bdxZoYb8XfliZsaTbEqfDFBoEawKetXjaYgQ/rGX0RRt+mTnpPOm+6374Kmqjz/2DrRK9bzsngKZ6pSVk4SrtiTU1ZdfeuE7L8mikL/29DneLvVmYa0DycJ13xbVPVYcyVeMufPklR+Hc2BnTHc2CKa+V/RZ+5VM/dkEd0ZtnFmPLEkPKeSJA1lacEeph3403odBYfjNb3MLypzlBjEmdab30ZExJ2887ipqarw+E7F9lQNiZ0J+/SzHUdyNY9rK379fvunm3+kmxNuf9uT835ram2qzjuyVRF/jnYAORMWFpVw+s5vDTWa04kRisTLuMUba07GbdqaePLuY23FvXMHtpk7jW13D30ReeB8SU2TTnM1ZStq33VMPcO3Jl2sqG+uKT2XsEV+4KqOXU9juWrr5rgfmXp+H6PY+j2qJx6/RW1OOHGnxtDWUHpql/KztPvIJe3JHehwA31c08W9YQk5qKjemnO7I3YcKfytoamm+Mc9n289fM+IKqPNS1Bu3vWDk860lqrWexDzwoo6B3RGGJhvMvJh3Jvm9sTum9k48yoRfJJknhA1R3xftXY/imLnE6tSUWPVJPsQK5K0pne0IWXli75J/aXh78yNKOFUa3eRxH++rapzvN3qDGq1L/iaPam+ckSVx9eZD7imJRhn9Crpy+KEB6ZdW9G9ojvDNs78yS/d8lREsvGfz8B05iV/tj3zEf617caBz6N+LGe2D+wMehUdZQ5KRs3J/YlXqk1x5oFpT9QEUbPDTbCzuaamyfSAZ0q7hffBztDtki6j+Ft0rAa9ZbiV78wzX1nT5T0K2pkG9Mvey+YwgioQtuu8zq6QptJrhQ8NNpfHrlJX1a38OzVP0MnaGmrqWUWZrrTmdIwiKQ/HnGakxFdXUKnGkrQoZXqZOQCiykemoNJqzn0VFpdZ0+vkvJnbBGJRgKknMIAz1idoVeI75vbt0JnpguBzFHMNOIjNijO//erd3rQqfdmfuLu5EVbcXhApCvrVlLcz2ozlNk9oc60cbWf3zTSZKNxN81oRFH3wtLqB61wDwppZMVOwSzydceamcgH7ctG1/w/ZGcfO4P3/KM3k3z1rQ43D4gntj4r2ZxBnHqVv3XToptGuMNvxTPPpXebWbGy89fPBXagrhAkLC0swOyM/cN30ZDWqjygiDj6wD3dU0zWmb9Z3Nw0fqTATFrZpK13VhgIUcz7fnnj45OVfawyUPV0VJ7+OUGz96tD3WYUljZYat1ZeS9u3c6upRqGmK609vSMy4VY71YpOynTMtNk7PmOdFVdhT147qkx4BA44Ts2bVWQp5hNLdmqYS3KhM1mySYI1RzVV1Vb0/ZvIUzjzvo0bref8ZjDOcG+3mwMgdQ+yf/hG6b9YIFgQfVVP8WHAvhly4P9Iku6xrrZK2zWAM3lyz6dxpulaYpgdUXTv5Xk601txIkYRn363ntYDh5GBnOl04Mwt1Ey/LWhoYtFpfvy31d3NP5v+LzTUiTtZ1kHZ09X06M6VrMO7olEvLh+bgCLqlojknPLWJ/hV65Wi2BgffuhmU16S2fba7B1KVCb7tAYjZXLG6TkANK7wGO+XTvdDcD/KM7GU2as3R/nqkDmDpxBsH/wk10TO0/XN6E4XU6qlS+Zou8WZ1htpO78zz090ZsvRtZu7l84xoDMNae/9TRh62VIgSfafA/h3icUZ/PB6ir4Z3cU6dqfBQuWVBCXTFRm0b8aeMKgv/Pnk3UZHzuCxAd2PwhjV30cM6AxVfnLr5j2WvlmDuW9Wc5rpDpnPid5h9N+2365kXdKYy7ibFqH4tsjIehca7pw+XWR+F1HQUG47XYvOla6ISDH3IVH1LM6gs+yMSDyYEEl3zBBd95I/D0++afGQOSvVYJohcHoOQHN4OSGU5jSjt/CmfL6bV+hP6ocl+T+Gi6f9dRBnsGMzZZl3q9Ezk6czqMsumYvO9X3Rw8eaggzZP4Vcn4c+7RzAKtNYX/5fqKWy5gD6b7c4Q95Uert5BaP6oB3Oyv9rghczV+E0A88BaM9vFL4yR5p8QVNVU3Rqi3jBu9nNds6gTvJHql+rqzVXE1cJiCVf8Z4DaL6yS7nlZDl7E+6ebT2Geh3OzAHspucA6m9l7o7YjscMDpwx3kJNOS6t8GFFxb3LybEolu0rbKccOkM/7Lcm/fLAbg6gGQUHeoKhvrnh0fW0r7Zit42V6XGfbT+SW1Hf1FR5K+0r89jMTNP1JEXErtO4nroHZ7+JiNhXqKejx2eKA+eLKyrKCjP3RHwaaj0Kdc9QZyz+XJNJvF7NiZiwiAS6hLq7P+/bmni5yTTg+fzQVefnzUi10vs/xDG4iWhzt/u+hnrb00UrlNEfD9Y3o1qyFIsF7ujPB7ydQQ+326my5R7ExAnEXG9Z8g0Dx0P9qeaadb8mBvkI8ZTxQkkUa66Zczurb0aWZyrfny9AV//qa76hR9WdFC8Gm2vu1vwUKVk4g3CbLFwkibtIB3bbeTNx6JdSH2auGfWc+Z2doh/hYf0+TmlFjWwregY7MddsmsP9fPvejFv1zFyzg/FMG54OVoTJI7b/6+Tln5N37qenvBw5Qxm1RemmueYjJ4/uVJg/bO1EgxC8Xa7YuvPQBXqC2DwBHYEqEvFFwpEreIhvQ8eDs4fpae7wiLgDp+8zI56emoLD5unj3IsZcTt+uGeOTlpUbUtUpE+gv/vzN9vxzmjUZLpSatC55tHD7+ffm9mNZ8YWrIFSxckY0xz0SAScGU08uzMqlcp+/D8CoPCT/uvtaVcfNjQ119w7lbBFQX/kMtz14gacGU2M5TjT+uhy2r6YiE9NfbCRGmQoiDMAwBdwBgD4Ac4AAD+wM6WlpaM3jybiwYMHDQ0Nra2tJEl2d3cPd3WAMQg7XSt2pqSkZHjFfUbu379fX1+v1+s7OjqQNq7K4An8jmCnax2n1WrHQN8MAFyAkU7XOhbGMwDgAsrM6VrBGQBwijJzutZxv/76KzgDAIOCNEGyFBcXj4U8mgDgAsrM6VqhbwYATlFmTtcKzgCAU5SZPzoHZwDAKcAZAOAHOAMA/ABnAIAf4AwA8AOcAQB+gDMAwA9wBgD4MTacwZnBmAydD+PefKrMxcCYovZYxKq91+yz4z4nXOIMa/GZCcTchRIF7wx6gwDOjHF6am9kxCs3BPp/GBjyafzR6zrTNyUfF5z+paSt//6DOWO8uTfQn8WH/tsvdPRR+ns/xSuDA/3XhEQfyH3s6HAXOePNLImBV6F5dFH5tptIcZlXduNBAGfGNPq8PUHBkccKH3cYuzvqfj34eYD8u1Kc+dJ4M37dBlV1/yPsndHlpcQfZyW0Rs6sW59aamtFY26s7JMDeegsbcUZUUHybzXcq7u52hkMXkxmaXJ1b5dqrXUZGbxxTQYSqfrwMmJFVGIInfd13ttxF+yzeGlz4/3+4UEQUwSL3k28Rr8KzoxlalURH247a12uxHg7KWTD/uLio/JgHCwCA9fEn2+hqo7L134eH785KFB5qt7emcrMzYF7rljTn5ucsTlNx+WdgdFZpghmLDm4SZp6j7M+LneGjjMTvKIKKMqRM8vd3P+uPFNJkh1FsT7WpTsYcLJzD+WFehSv1cnLCdF6nPIYnBnDdBbEr1t/rJTrJXacqT4u/2jd3vO/deDc/U/jjJ7tDKU7Fb06nrt35+rxDGKKb9TP1ViDAeLMYdOSZne2iGZKc9iJwEldtabeFDPxGhJvq5rBmTGNIXfbx5wdsH7OrI27aWoZZmcMqLsViKFHLfRv63H0sB/PbM5uoqi6i9s+/uRgYYPR2FWZs1/+0TA7Y4kzmug3J0pSGU8GcMbckbsTI5r1gY0zVLv6p0i/d7xFmBkEAc6MdXCcCT5WzvXSoM5Q3XrUrnUNN9PCAmNO1WrR79oOI3ecQT0X3Y1vt4UFBQaFbks+Er9x7cER0jfTZgYIRJ/Qq20iZ14S83XmRpTQc6Wq1LI4ITgz5uk3nrn3nTzsm5JeZ5wx4UzfzIa67Mj1Owo4ZuSoYZkDQKHmBV861BRFiwQr9qtbnhgeo0HOZGecIS8ECTyQMwaD9kH29rcId3Bm7EPPm0WfUjcgCTrq7qRu/Vj+3V163qx477q1B2/hJaCemzPGTt2DKweUayMzSo3cU7vDMW+GQ42HNAeFGt1F5bsexMQpgkWr5Gu9neubVWQplgndCbxy074v/RaLU0rBmTFPb+W1b2PDgq2fz5jWZnpSfFQZFOAXi6JQ1UDO2OPIGRRePl4TEv7lwfOlHQ4/Cxkb/w4AAFwHOAMA/ABnAIAf4AwA8AOcAQB+gDMAwA9wBgD4Ac4AAD/AGQDgBzgDAPwAZwCAH+AMAPADnAEAfoAzAMAPcAYA+IE0uX79+u3bt8EZAHAKpElhYSFegxacAQBnQJqgIFNSUjJanCnZ5TVrdXbP4DvSdOQnfSye/7qX4hz1HFMQAiOdoc49e//+/UePHo2W3LO8nMFfjfZKvFalNcC3nUc1Lso921F6di+dezZI/kVqXoODg5EmDx8+rK6uHi25Z/k4Q54NsE8pCIxCXJR71lhyYFNg7NnfOvp6dDeS5NLN2fWc1UGaVFRU1NfXj5bcs8iZaT7yze/h3GYCkTT5jsm91rspG33o3BpieUYpLif9fYE7TkEoEExTXkV7dGtOR0oWosOmi5auT7vLRJ48+fwZksAA0St/8ktHJ2rOiff3molK9pQomMSFwLDjotyzdAKNL3JbmT80qZv8D97irA/SpKqqqqGhYbTknkXOTJnml1So7TJqr28XT3OPLkRb9SrpHFHwD9VdlOF2smTOrDj6mWI4Y40z5I0topn/iLtaT1Lt6u8DhB5+2c0UdsbzL16hP2r0WCHN4WWCJSE59SSpuxa9dJKlbsBw4qrcs5Sx8lh4MI4zxh7drST5hh0FzZwVQpo8fvwY+TIOeTMacs/a9M36sj9x99p+h3p8xPdVJlcTvVE+RZzwgLJxBm2cJlTkmGcCqhLfYQILijNTlYWmKkQvfkl6xjTy0Wa+T6xI0kKoGXZclnuWojruHZV/xGxZtzeP2xi2M6Mk96zteKYoep4wNJu6HSWa7MbiRUYPljP6tA9fZMWNvqy1L9NesZ25JJvFLmQ8jIVGBC7LPWsoiA/ddLDwsREdVZq5beNnKs6TutyZZ849axtnsmR0nHmULJ69Iqvfc8E2zkwVKQrMr3DGGbXSe6L8AsywjTRclHvWWLg/UJFWaX5KFuz1j8zijG4ud+YZc8/S4xk383gm3nf2HHo8U5Wy8hWv0B80nWjgUpcdL2eG+P3GM+KUYj2eDPgpyDqesTrTUxTrLVganlOJjm3XnN4anQHjmRGBi3LPVmcq1oYfU+Nm0VF1JT404MCNdq7qDIMzz5Z7Fjnz2gdK5XuiVyYQgtdlh83zZrprceu88byZ4DXf0DQN/fkP2xlaFfa8GTMdx3aGwlMn29/D82bEVK/ViuzKIbkbAH9ck3u2p/bat9vQWQLXBIUo9551lH7WJc4AwBgCnAEAfoAzAMAPcAYA+AHOAAA/wBkA4Ac4AwD8AGcAgB/gDADwA5wBAH6AMwDAD3AGAPgBzgAAP8AZAOAHOAMA/ABnAIAf4AwA8GNUO9NHNtfXtpC8j+vubNE11NVpW54MQaWcwNjSUNPo4EuAgx6rNx/b1VJX19z5O0mp29fZVNvQMkTJZHniEmeeGOprzNTW1eua2548fT6XPrLd0P6kj/n1aZzp62qqq9O1Penu6R2mBgfOUFQP2dasra+rRQ2iTtvURjINgvXm2jKYMz1tjTW2aNsdtbG+7g5DK+lsyu/+uMqZWl0bXcm+HmNXS0NtXctTv9k9bboac2FP5Ux3u7ZW2/b0t+zZ+d070/dE31Bb39hKdvf29XaTbTrkTXs3ZfPm2h1h50wfqdc10YcwIGdqtQajU3ejr7Oxtt7w9DHLhc5YtO9ubajVtnZTve2NNdo203Ub0cbG9j6mSetaDE0N9DNI19LFuoM4RNTW0tGqrqmjj3amsUWvQ7vW1DU0tZnvWU+XHnW+amvx8R3dfTZVweXSBWgN2LbeJ+3NWnrXeta+fT2o+1ZPb9Y208XS0cnsZ2+bpebd6M1jHpcNOn2nqa69T9qaGkxHt5sq1d1F1xPt19isq+vnTP8zcl/IWHCmtwPdy6Yua9V7DDoU+dv7vbl1ukZdfW2Nrr23r8POGdzu9da+NeNMN2ULR1vq0tczDQD9Tb+DvcYOUwNo0JnC3RN9fa22sRHt2NBmXyQ1DM700nGmvgXdMUfO6GrQ6534EUSix1GD3vaJYBdnauoaW5/09KF421hX29TZSxelrWto7upGG8mWBtOtsULHmXamdfcw/TQSFdDTZdBiK/A7ic6LRjtoK9XzBL2duLYOnOlsRm9wO2rNvcZ2pEQzbgg97Y119XhjXw/Zio7Gb213B3q1EfVJ0XO1swV1Ve2c4Tgj94WMBWdIvc0zlIX9m1vf3I7aQR9HnHHSGa62xI4zvSTTUUc7GNvMJiNnavCb1dPHeXddPp5BAcH8yBwgzrSaHtik3vaBRDnum1naMer51DZ2mt6RnnadtTQGljP4VdY7gc+GWyHZUo/0M4ccY2dbB7qn3M7ghqvTd3Xj0/X2dPf0mft+5rcPSYXeqV6bE/Xvm3GdkftCxoIzXXr0eOPsmzrseFucwb5hmMExDT7AbjzzmPGHuy2xnOntYL8vT9C70NLFxJlGx3fWxXGmDzcX84N/AGfaWNfZ6KQz7cyTBjdu29GgXaRiOYNPqrOOFU23uK+rsbZObzen5qhvhuJLSyMazKKuXZOB7puhOtuev66lq7tVy3qy9nPG4Rn7X8hYcIaOM5xD9MGd6evpxqCoXovvK6and8C+Wb+2xHIGNQC7qQN8b0eWM/Tz0hw6+tpZ1/ncnKGfFs1djtuSfZzR28QZ/LS3LaHH2PUEdY9ILmd6u41GZgzUa+xETVyHyqVF7LBtEfh5ptWb39L+cYbrjNwXMhac6T+eaWtkep6DO2P52+nxzEDO4AaAh9a2jDRn2KEGXQV6rhtxHx8PcpxzBrVX1M7p+UhuZ/BjDI2ju3BbxlGgpX2A8UwnGgU1tht7cc8WjT3q6HEEXYJOjyfEe7vR20mPLroNWvSu4ZFPd5dBV/uYdobZSIeXHhJfFy63u02HhiHtuL+GRvb6ljZU2Z4OunC8Yy+JDuo/nul/Rs4LGQvOUH1P8Ji2ucOI+rJopIEHEsy8maM39/k6g6I66oPR7dEyzsRT0KShRY83jzhnLKGmF88ltWjpOa96XXNjvXPOoMtENxMN/dt7HTjDnoNCBXd22x3PcoaeN2uyzpuZ56v6uttbUCXRVjT6Ms1i9SJVcGVrUZlNDaa+WV8361Qt7aZTdZP6xgbz+U2Ho2tFO6I+XIOuSVfff96M44xcFzImnKHwLTI00lOY+NIsn884enOf4vMZPOXloC31dekbULfXNG9GmhpAreVzopHgDACMIcAZAOAHOAMA/ABnAIAf4AwA8AOcAQB+IE2+9BNERsaDMwDgFEiTousJX6+aBs4AgFMgTWoeX/5h/RxwBgCcgnYm/0TIa+AMADgFOAMA/ABnAIAf4AwA8AOcAQB+wGeaAMAPcAYA+AHOAAA/xq4z5Nkgwutz9dMn7AScovjQJyFJxXyP0p3/MjDmnH6gb5m2lfy0OzJMpvjupnOp/lyGS5xR717sNtGNZgIxd6FEcVTdOSQnYvM0ztTkpnz7SzV9iOHMOqH496hcR/nlgzs2BwX6+wfKIr/OLGlhNpOaa1m5FRxfLh7cGcN91b6oECkqcJ085sDFsnbKkTONubGyzdn19O/lR+XBESq1Vt+BTvq44PQvJW0D1To71t+WL3JbHe08aGkD4yJnvIlVqQZ8g54YHl1Uvu0mUlwmh/jh8TTOXA0Xzl9fxHx/vLU8v6hyqCs54qi7uG19cGzWLV270Wj47eL+sMCIH2vxPdRnx/jFnm/uf4S9M9Xn9yacqrTedt2p6I/k+y9VthiNHU0lv+wJCf4yt9lRnGmtvPsbs9FYuMd8avTHzfh1G1TV7D0fqnYn5jZY/sTORGY9diqhLEdpvHC1MxhNsg+xNLm6t0u19kXfpArrxjUZqI1WH15GrIhKDPERuk8g5r0dd0FvW1iP+qcNvp4EQUwXLQ1WlXXRG7urz2+XLJxBEFO9Vm/NoR9ULGc4XqXL+cx3wQxczoqN2ZWUOnm5wN3dzY0gBG8kltooZyhJly+fL3CfIpj3jvJEKS1Snny+SBaLi3VDxQanacZCROorORQS9NUFa1M2FMTLNqoeFh/YFIwCDwoUIfsLjH0lBz5Zv+3rHXLp6vjLT+ydKT0UsiGhxHI3jDf3rpOm3rO8rL34Xfypsh7sTESyKgEFtA8DQyKP3aZtbLy47ePN2U3IqJ1BUny+wKBPUs+hgEOfPHBNvEVaXOxGVbmlWMYZew/wWaIPndpnOUsLVWpfmrHq8sEvN6A/g8JRxXAMpKqPy9d+Hh+PjlKequ9/l1zuDB1nJnhFFVCUI2eWu7n/XXmmkiQ7imJ9iCU7bZpjebJ4+qLEYiRSc87WxcTSBNSVIu/EeM3ySSysp8j6rE0iwRqVts/a6DlfNeSGizzfSbuLy8mP8REs3YfPwoozVmdaL8lE0/ySbqD6a6/H+852jy7sws54vixck6JuIcnHJ6TzXpCd6RqSe+dS9Ke2fbjtbAPnS6w4g5xZLd9/tbYdP9YHcYZqv5kcEhRx4OJ9LTvTju78dv9ARWphg9FIlmQoA8OP4JBidgbRkTdgnHHWGa6zsEvrRI+DoPjzv3UYuypz9oSE7CsmaWc+WrcXb+SMW7Qz12Nf/98uGs8gpvhG/UyPGQaIM4e1zM26s0U0U5rDTh1bc8T31dfkmcXYQLJVq0WNvjdHOU2oyKGYtwRJNfvd7A5Lo+d8tS/7k6ki7C1N64Os7045csZwIoDtbVG0SBCaTfahODNVWchs61L5Wy9kNFOriuDugPVzZn1qqekFszOoDxaIYUYT9G/mRtyqyTkSv2VDYNDG2OQTxVrcEG36ZqVHQ4J3FTvnTMnRMOtp8C9rgnA5duOZD5hTc5+FVRo+iyLN3JPUpG5ae/AeE2fibjpcb4J25v7piAAXxRlN9JsTJalM8xrAGXNH7k6MaNYHNs6g6J6bKn/PWzhjtni1Mgv3zVCTdbOB+GdanaXRc76qT/uQq5VzOYMrtirDMrAxV8/WmbUviceCM87Hmf7OUB161IQaa6/tDwremYu7Lmj4blMEGiDlHvkyKGRHgd14Bg/3d+M26oQzxg4dpvZC7Mey1Nu1+HecCNVx36z/WVil1Z7dajtzsGrvDaNTzriyb6bNDBCIPsnHd9OmqTnrjO6RuooZ4TQV7Vom8JKre/uy5e5e22/bndTc6DlfRRtf8YqybGxUF5ShDpuzcSa4X5wZI87Q45k9udZOVGf+3tDP6C7Q4M6YsOubVV8+8K9s1pRA5bHw1fHXep7aGRPOj2cGdEZ/eWdgdJbObipicGfGYf6n6+YAUKh5wZcONbj9rdivbnlieIwGOZOdccZwYaPQY6WqFIWXbk060i8MNXE0OBF60CMWtMPt76PjfmaPZzhfZZXTUZT0nlBMW4G7giuy6IZhHc/ozknnuUvT8dDfcDtZMmea8io9nhmDzjDzZiF7z5fpn6An+uPcJMu8WcfFr/wVGeV0B5+PM3jAIN2WdoMe/HTV3vpOsXbjsXK+caZ477q1B2+1W8/yTM6wSsOTHCF46NKHwqD61JFMPAftTJwZ+vGMzbwZDjUe0hwUanQXle96EBOnCBatkq/1dq5v1lGUuk7sOYMgJguXfJDyKxNzLJNgaOPqxGtYD9bEF8eraGyq/n4DXc5Ur9WK7Ep6G3k3UYK2zIsrtps3y5D9X49+82Zj0Rn8+cz5A1+GBQX4+wexP5+hdDeS5FI/OgoN6Ew/jHWFx/ZtCQlCPZ81IeFfpObhGWF+zlBPio8qgwL8Yrn7jRTX5zP4cx7us9iW1lF+YW8UPW8WsvnA2VIcY0eCMwAwhgBnAIAf4AwA8AOcAQB+gDMAwA/zXPM4cAYAnGLsfn8GAIYGcAYA+AHOAAA/wBkA4Ac4AwD8AGcAgB/gDADwA5wBAH6AMwDAD3AGAPgBzgAAP5Am//3HgitJv412Z8iytNBlItFMWaZ+8J2BMQPrq52ugnYm7wRxd5TnnsUpOJYocsoaDPgrqRVZ/zpW1DLoQcDIw9h888d9kRuCA/3XBMm/SL1sTo3ZeOtU9i37ZBfU4M5UZiptv/Ns/lZ2Z33xpfS9WzYdZKVX6Sg9F680n7rQ0feoGWdORVaN8tyzOcrZIoU5Xxl5TjrTM7F0wAOAkciT4kNhgeEHcn9rMRo7dfcytq3/+EAhnexCfShowzcl/ZOV2jvz5GbajtRCa7aNyszNHEluy48r1odu+3pfZHDAgVvmxH/GkoOb1sSfR5Z26299Jw/ecpFbRdqZ/IsnGkZN7llKmxvv9w8PgpgiWPRu4jX0alfWJvSnmxvaIvTPvhzjNcsdBzTBVL90OplGyQk6c+xk4SJTzo3qw8uJRatlPh7EIvnvMIv5yAULsP4Y62GnOSoP2pNfeiaKTkXrHxikPPUbnRkjPH7vlqDATd9ptHbOdGTHfrjtF2taQ9qZCx12zhg7cOZ0qjI1nOVM6dGQDXQeTYzuVPTq+MvtFAfMeCbnrMucedbcszXHJXM9lBfqcTaZ5OWEyJSOLEfJyovJjjOteThzbGqxoa9dkx4kpPPd4FMIfBILG0iHuUWAYcB4LzkoeFcx55vCijM4o2zQ1lNlLTg1rH2ccc4Z84tsZ4yF+1k5NY25X3Mkf6JxkTPPL/csqavW1JvuKs7d/LaKvj+OnLHN6KdWeo9XXrVNBwWMGIyFiYEhXB0wys4ZVgYmszPG28lBUpuktIFBODOT7XhmtW1aKTtn9gQqjpizQ1EFe4fZmeeYe7Zd/VOk3zveIswMghjEGU3yWyxdEX+QnukGZ0YoajrOPJUzlNFAJ6WtVEX7R2aU0b+3GJ81znBOA7i8b/asuWdvRAk9mfyXTsUZbeb7zNoBbMCZEQoWgJ0dk9Ic3xKyn86FO6gzJp6+b2ZKgu7UeMbV6888U+5Z8kKQAOeMNRi0D7K3v0W4czpzSTpzmvIqPXmgO+knnC1Nx+sIkLrClMjd+S3gzIgFz5sFRSTffIwaa4/uQaZ13gw36B0F9OJkQ+UMnjcLjD2LZ7f1975TDDRv5vI1m54t92xFlmKZ0J0g5nrL9n3pt1icQscTG2eozpwYH4H7n5lOoOF2quwtep5N6C1LxsvIgDMjF2PzzYzdCrys0pqgcNbnM8ZK1fbgwEAchQZ0xh4ezlg+nwlcEyTfkpo3wOcz8G9nAIAH4AwA8AOcAQB+gDMAwA9wBgD4Ac4AAD8gxzkA8MMl6zYDwBgC+mYAwA+XrNsMAGMIGM8AAD/AGQDgBzgDAPwAZwCAH+AMAPDD3hkdAAADAus2AwA/4DNNAOAHOAMA/ABnAIAf4AwA8AOcAQB+gDMAwA9wBgD4Ac4AAD/AGQDgBzgDAPwAZwCAH2Nm3WYAcBEuWbcZAMYQLlm3GQBcAL24n2WhsqHDJes2azM4Fhuz2eH60cRzD4bk3GxqclO+/WWAagwlHUU/7c26Sy/PRj2M83WXZtqvRw3YYyg79c2X8uBA/8B18ui92WXMqmOk5lpWboWx/+6DOdORHevvH/QFs/CTdWvhnqCA97edtV1tpjpTsfaL3FbOclyyNuCgzuBFnYJPUEO9iNLVcOF80zrPLqchZeW/S+i119GbW33rqgaUGRhj5bGIj+Rf/7dG22HsaCo5syMk+Mtc3LD12TF+seebOY6wd+ahandirtUF2hn/D231QKUF+vuPZGdKdnm9FhAX5+81kyAEc/2SrpN9epXUQ+CO13MWLPo0Hzfo5px4ZgdPiYJZ4TlPPn+GJDBA9Mqf/NLbqg8vJxatlvl4EIs+VRfFiGZZFna+JJ05K66Y2d/Db9PHvt7zhYKZvqE/aHopdfJygTs6DSr2jcRSm+qRJSfky+cL3CcLF32Q8ituy9Xp75sX/WzJks0VrlFpkc+td1M2+tBLrInlGaUkY7juWtw6b3rjYim9iBq9NpttlX69JBPNINAlEtOFwSfJvodxb/5RmsnEHPpiPQiCmC0OTCxqobdx3KUheV9GMh2F+4NC2Oue605FS7edyj0QitdAQ5EnZH+Bsa/kwCfrt329Qy5dHX+5w94Z482969ircyJnAiJjdgSx90FurI+N3/bhyHZmyt8kCbnaLqP2fLho6j/T6vAO7DijObxMsCQkp54kddeil06iF3bOk3v+xSv0R40etzPkjJvAJ7GwgSS5GijjjOd/iGPoFtx6Uyl+0TeJ7vhxxpnWPJloml9qsaGvXZMeJGQWLaSqUlZOESfc1V4JF818W4UridyeIwr+obqLMtxOlsxhToR2e8VL8YsWbXx0QjpvovwC6aBK7DhjdUad7CNYtDG7sosiK7I2iQSrjgxwl35XaI6HBe7kXNOPHWeQM6vl+6/WtuOumhPO+MWe/fXgprUH7zFdu76SQ/KQpBvZO0e4M7NWZ5vbk8zDPboQ/8ZyRhO9+CXpmS7TgZnvEyuStL0obkxVFpovx37BTc44Y92fPjsqhNsZw4kAYslOjelGq5Xe45VX6V/Lk33nzPMSjfdLp1eWrjni+6ql7fZly5FRpeyFo3HFrhxRoTDFw5l77IuldCclgoUpFQ7v0u+KkkMhgXtQJOn/ip0z61PNvQaLMyVHwwIx/hj8y5ogvP4mvTzt2abKnzYH7aHXgu68ufcTJBUqkK8zQ/+ZJh9nLslmubEYTzfoZ3KGvBBEeH2uduCMJvktt4nsM/7B3Ii7smQz3OYyPTR0oijRZPZuLwoVl+mF16U5doGLhzPo1dnRxZYjzdUGZ0xx5srTOWPsoHNd1F6I/ViWersW/643MuOZyKwGvGzterwms/7yjqDoLF2fPpt332xkOYOe9KiH02VbwMDOfDCwM3j84zjO4FDGNT9BluwSz17i6z1dwvTrUEiZvSLLbuSJ48xblo2GR0VFVaSDKjmKMy/IrHHmuETgkQhxhoYez+xjjWf02V8Fx55vcMYZ89/9+2bImWr0QkHi2siMQtXWj/bmtaMCT41GZzTJPsSK5GrceHqKYr0FS8NzUBefatec3hqdUTGQM7g/I5CfQWObpqLvA4R/s4xnJuBhRh9FPj4nW/QiPShCgm0RzezX7nUn/YSzpeloPEORusKUyN35aCBOPozzRUOpMhJX+J9p+Gh66BL6g6YTvVqXHS9PwxPHVYkSd3FUrvlEk2Vn9A6qpFd9iIZYd+jRPGs8s9tHsOSz/Hq6zM3eAnQTHN+l3xd43ixAkXipEo1VjK2aX/aEBEddxA274+JX/oqMcnpE8nTOUMbSQyHSwMCQhBLs5Oh0hirP8HudIObK6Hmzuuzt7+EpI2Kq12pFdiU1kDNUjzp1nddMNzdipm/oBt9ZFmdmSNavE3vOIPB2lSmMkHcTJWjLvLhidu3QmD5V9pYHQUwRCL1l9NwXHpoviVAjPaje/K0iU1O2TJEJXvMNTcPyIGouRgcsFrijY71kh4vpWnFWidKe2SiaOkmw5rjBZt4MXSwzPzZbHEjrSoEzZgz3VfuiQqT+tp/PULobSXKpHz0mGdAZe6zOUFStKgKLR/8+Ip1xOTaOAcBzBZwBAH6AMwDAj7HpDAAMHeAMAPADnAEAfoAzAMCPZ/5u87hx8AM/Y/NnIGee5bvNw35h8AM/Q/QzoDPP8N3mAUsHgFHJ4M48y3ebwRlg7DG4M8/y/RlwBhh7OOnMypUrwRkAwDjpzL1798AZAMBA3wwA+DGYM8/2mSY4A4w9wBkA4Ac4A/wueI65Z4ffGfXuxebcLhOIuQsliqPqTl4nYSduHYr9B4GdGjc/+nWRImfIU34ClKPcs5S+9NKpX6v77z6oM5WZSn//tQdv2eatbby47eMP/W1z3IwEZ7yJVcw3+J8YHl1Uvu0mUlzmkxuSnbRlKPYfBHbKQvJxfv7D52Yj4BCHuWepyuNhnKnPBss9yzjjZ0puZrNxRDuDwVlmltJZKTjSzNKpKj5aLHCfQAgW+MXkarvsErdSVM1Z5fvzBTjdq5fsMJPJpS9r7d9Eqz/29ZwkCPla9rrt/iZY+4RmU7cdJUYTyWK3SxbOcCOmegWnaXrtU+PmK+cI6ThDp4DaFO1PJ9CY927ixWJV+DIhrrZImsrUiiOrLeAk3Llnz1Ze/DqYTva3Jkj+TUkvVbD3I3nMvm0b1gTtLzLeGDjvDNJjc1B0XGTw5mzL49SoObhpfWzs5sCvRrAzdJyZ4BVVQHGnme3Llk8TBavobK4ZfnOZXGe2ycF8p/jSeWUNN7Z4TfOkky8jH6YQS8JzKvX0TeaMM7b7OExa+7JwTYq6hSQfn5DOMyUfY8cZtjNuAnHKrw0k2Zy/FXU+p/klFRu6uqvPbxRNpZNrcme1BZzCce5ZmzhTsPfDwIhDxQ04+exguZpoZ/ZczN2/1pxxhjZTcaTgh6gR6MxiVq7KKb5RTEjhTDPbm6OcK1x1IB/nN6NInVaL/2+TVF/7qEprOuimcsH/kV2gaB9eFidYVuNw5Axrn8ETcHap/E2J0Rw4w05NuEU0c5VJCdJUmsOstoATOM49a+eMJf3SoLlnsTOBX+V23D0UImcym3Vc/ErKZKMdgc5Y4owm+s2JklQ6Qx93mln0eC5Vffmx7wKBYJ6PLBmn27NzwHA7Xe7/ppcI4SGYOJTOrH1J7KwzHKU5zmoLDI7j3LODO+Mg9yzjDIpdtaoIOoNmXWbk+h0FbRznGlHOoHgSYF6mgjPNbFv1/TImjJDl52SLxvvhtY1YDrReQuML+ZlK0pSo9lmcGThp7bM64yirLeAMjnPPDu6MCa6+WWAM7u/pzn+JIk/BkU3ypLuonJHuDB1qXvDFoYYzzWxV4jt/ZbK5UrqbSvGf/HDTZyVuxUmNkTNVBkNN0Y/hXlP/h+wM1c8ZdqJXC7b7OEpay+UMKzUuD2e4s9oCTuIw9yxVi5p+9M+6J/j3p3OGXhEA9dlMrzpwRs2coh/DMW+GQ41pQNw/zSwKL+ZpMTyZZkoby0rc2qNO3yCexSSA3al8b54US2XnDHt/yza7fRwkreVyhp0al4czXFltAR44yD1L1V2JDw0MRFGod0Bn+mF1Bq88ExIYfU7HLHnE7UzosVLOYuDfAQBAP4a/bwYAowsnnUlISABnAAADzgAAP8AZAOAHOAMA/HCFM/ADP2PvB5yBH/jh9zNUzgDA7wxwBgD4Ac4AAD/AGQDgBzgDAPyAdc4AgB/gDADwA5wBAH6AMwDAD3BmUGqO+L76z7Q6V5zK8iVQyy/AyMMlzozu3LPgDGCDi5wZzblnwRnABlc7gxmm3LMURZaqwpehwgjBTN/QNA0d6+hUGFGJIT44bey8t+MuMBliO4qSmIot9Nu0zmuqnTN58vkzJIEBolf+5Jfeji9nlTlZx40ooeea/B6KKtnl9VpAXBxTyFy/pOv2zwiOqwBnRgUud2b4cs/25m8VCVYdxKroLskWmXbAKWTd/648U0mSHUWxPkxeQkPuRuFMn8RCnFc2J3454d7PGc+/eIX+qNHj7p9DZ6b8TZKAnDdqz4eL7K3jvApwZlTg6vHMMOaepQyPH1ab8oz3ZX/iJqK9pePMYS0T4nAKWWlOT29O2DRrk+Xom7FTOjl2ZtbqbHP2JpmHe3QhuwTOqwBnRgWujjPDmHsWhZeriRve85qPDpwvdP8Lyxl2mrIPcnq6VGtNmZoxQ+IM51WAM6MCl/fNhi/3bEPah+6mDJ0UlS2f6tgZFGdMr2IGc6b6sI91tOakM9xXAc6MCoZhDmC4cs+aS9a3VV/PkL4xQJyhyNxwoYckC0eabk16gKD/eIblDHlho8BjpaqCJA0VWZsWuM11whnuqwBnRgXDMW82TLln0Wg7ye8fM+hzRceF+XqF4lk1TmdM82YerwpFf5esD+CaN7M6Q1GVqlAfPNE39x/STQFCD2f6ZpxXAc6MCuDfAQAAP8AZAOAHOAMA/ABnAIAf4AwA8AOcAQB+gDMAwA9wBgD4Ac4AAD/AGQDgBzgDAPwAZwCAH+AMAPADnAEAfoAzAMAPcAYA+AHOAAA/wBkA4Mcw5GpC2CdhGRjt9aOJ5x4Mvp+LqclN+fYXUx7D50BF1r+OFbUwJR+XvP7PtIpBDgCGieHIB/A0hwefGHFfjr8aLpy/vqjnOZVGnpPONGUGpKhGdUGxdqRdL2BiGJ3hygRLkZasGmjjUXWnXiX1ELjjTIKCRZ/i3BRMuloPtMNscWAi82CuPrycWLRa5uNBLPrsVk64cOaKrGa6tNZzUo/xyqvWc7L2lKt7KbLkhHz5fIH7ZOGiD1J+ZfIF9qh/2uDricqfLloarCpjUknZ58hVJy8XuKNqoS1vmBs6DU6d8bZUuljgvjCl4pLMY3Z0MfOCPu3DF3xTmXQf48WKb+TLPYiJk4VLNuLMITdivGa54wTwgqk4z47uuK+AztpB5/RQKt+j75JImlqQf2yD2JNwI2aJQ1XmEMeVvxcYQpAma9asWbt2raud4cwE21O0y1uwNLII/dp6N3H1K0yKWnacUSf7CBahdtZFkRVZm1AJR1ArwfljBUyqWGTdTeWCl6U4KxqdRUkky2eFAps9W/Nkoml+qcWGvnZNepCQSYVTniyeviixWI/b4tbFxNIEVD5XjlwHcQannH1FisrErjlyhnCb559VpicNZSl+04QKOpEaO86wnZnsLk0vM/R1V5/eKJr0oij4qEZPkuUZfnP/jUkNx103YAgZhvHMi0wWIq5MsEwWVnOWwPJfUk7iHGUsZ+6x09VSupMSAXqc2+Zboqj8aBGdpak3RzlbZJvxiL2n4USAKXMnXUelNx2RcAbA1+SZxXgfslWr1TvIkevYGZsUTZzOWNNK0Tk46fo4coZd2izLOBCV9mcJLs1B3YAhZBj7Zv0zwZKXpDNnxRVzHW5yBu1gaYWUJc+YnTN02uUVWXXo1Wnsjhll64wm+S3bmYk/MI1Pm5sqf89bOGO2eLUyC/fNHOTIdb0zHKU5qBswhAybM5yZYG2z0baW56vrScouzrwgs8aZ4xKBR2K/OEPvNslv80ZRvzbN3hM/lemulw26R+oqJvw1Fe1aJvBCwx7OHLnOOJMn82RHhqFwxkHdgCFk2JzhzARLZ6NdEa9GI/vWsrTg2aIovGwLblgrkqu7mKJ8BEs+y6+nZws2o52T6fGMnTOUOm6Bm9sLIkWBbUVs99Sd9BPOlqbjbhipK0yJ3J3fQhkubBR6rFSVdpmyzorCino4c+Sao1mz7QlsnGGu8Yahy6i9Hi+Z88cBnUEhFEVFWlcezjioGzCEDF/fjDMTLB7Zb2GmiTwlCvNkGhryvk4Qc5nRfF32dmaaaLY4ELdyiuJwhh6Ls9PDmrDb03A7VfaWB0FMEQi9Zck36O0dRanrxJ6oBpOFSyyTaRw5cinybqIE7TbPpjNp4wy6xnjJQnc3t+miFWEynwHjDNWZE+MjcP8zXjSBhzMO6gYMIWP13wGUJ4sXhj23D08AwMpYdIY0VKpC/9Mr5vZwVwQYkyBNsndv+Fk0Z8w4gz/H/Jto9a4ifktDA4CTIE1S30t49HgsxRkAGEqQJqfPV42tvhkADCVIk5xb1eAMADiL1ZmVK1eCMwAwKFZn7t27B84AwKBA3wwA+AHOAAA/xuJnmgAwlIAzAMAPcAYA+AHOAAA/wBkA4Ie9MzoAAAYE4gwA8AOcAQB+gDMAwA9wBgD4Ac4AAD+QJsoi+M4ZADgNOAMA/LA6k5CQAM4AwKCAMwDAD3AGAPiBNJHngzMA4DRIk79uqawGZwDASZAm7uNrxk1oBGcAwCmsn2mCMwDgDMPrjO3KEwAwGnCVM4aSTOX73kL3CaZ1Y5ilU0aXMzW5Kd/+wqyLZjizTij+XP1cVuFjFQuMBlzjTPlhyZzpfvuuVutJUleqCp0vWLoPL/s4upxhLwbYWp5fVEn2DXIE72KBUYBLnMmPFgpWHbeuQ4YX5aPXmkXOTFumjGXWLZvrl3SdaYXa3Hi/f9DLjy16N/Eas9JYnny+SBa7XbJwhhsx1Ss4jVlplSw/K38X7TlJuFSuXPu6eZXm7urzeE966a+tOfU2lak+vJxYtFrm40Eskqt7ORcP4ziXOnm5wN3dzQ3V843EUoo8G0R40XEGL0X2gVLJrM0mkqYW5B/bIPYk3IhZ4lCVKXq03k3Z6CN0J4i5YnlGKds0VrGLEm+ek3qMV17tMlfmr14JmurU5cSSQPlKb5FQwLobFFlyQr58vsB9snCRZTE2wDW44t81N6SsfJF73Xq8gt/fJAm52i6j9ny4aCq9IF7NcclcD+UFvFgkalKEiHkG58k9XxauSVG3kOTjE9J5zEq0VYnvTBSF/lDd9cRQckL2hmkVdfJOjNcsn8TCeoqsz9okEqxRaW2WO1/uJkCvNpAk5WDBPc5z2QQEG2cmu0vTywx93dWnN4omvSgKPqpB4bQ8w2/uv9Grw+pV0jmiYFRJynA7WTKn38LU1mK7smTThIrLWCq8jDtekhYbLpRk4ZuH1/cUekhzOpCEeTLRNL/UYkNfuyY9yLQRcBGucKY6zuffJen1HK/YrwxOr3JM6qo1eLlmTHmyePrbKrzOq2lZc5oulT8t4eMj4ldpzWjylXNoZ3pzlNOEpoBDlzD73WxWk7JdUtNRnOl3LsqxM+xLmMVeqPnPElTa4yO+1kr2ZcunWBbTNMEq1nAhSODxSX4HZTgRIKBXLbet7U3lAjf5Vfwqa01ztdJ7vN2S7sBQMuxxpr8zVLv6p0i/d7xFGNTj4XJm7UvipErqNru9WpxBrdzNBsLqFfUUzuBzOe2MfWkN1J0o0WR2bV60+szAHs+QqAQkQEuWzKSWbW2rEt/6ozSzW5P8lttEdpl/kJ6B5c5dhku+c5YfPVewhjWeaT0nnbcosdiBMzeihJ7MauOO4wzTjm0e4RZn0LPc3Wu7w8U0bVthnsyTHRmeuzP1dKDrtyQ6G5s5gN6csLnC4AjpHNwxs68tiSqG44w2831iaQJMtQ0TrvmeZvkR3zlzpKmF2i6KNJRmKbyZjgenMyTunyBnDAbtg+ztbxHujp2hqlJWunmFnsJDhUfW8YwhN1zoQY9n8Grm30fH/Ww7nrF9cr/zV3HUDQMaUF2Pl8z540DO3Nkimmlq/TycwZV8xSv0B7xuO1mXHS9Pu2sbE1jF4pJR5SdNcDN3vejxzDtpd/V4Efak5QIhPXTBkyizpeloPIN6soUpkaY13wGX4KrvNhtup+N5HtSjePU/fddzfj5j6ZtVZCmW0bNM3rJ9X/otFqfgJ66DdlxDz5tNnCxcIpMtswxjetQ/fea7APXr0PbViddshlK2zlCGG/GShe5ubtNFK8JkPgPGGfJuogSVOQ8N4vk4g5r4tbh13viKBK/5hqZp7BbHZRVL/4nO/ifLmIee5QuUr5wvcGfPIqL7mSp7i55aFHrLkm8YnsusN+AUeD3NmJWiSX8Z9d/T7MuSDdQlGz3ci15s6phR/QwHRgBIkz/+r1l+SadHpTOd2XKxPBN/4mG4He87e5r5w41RC9mkTg0Qrki2jFXAmZEH0mR8zNVRmw/AUEJ3+VC/RegjO3zn+XwwP2w0pKxEHbD300qt5oMzIw+kyfvnKketMwDgcsAZAODHKO+bAYDLQZr84d89R+scAAC4nrEz1wwArgHyNQMAP8AZAOAHOAMA/ABnAIAf4AwA8AOcAQB+gDMAwA97Z57D8ukAMKahnbke+/r/hjgDAE5BO3P/dEQAOAMATgHjGQDgB9JkHOZ/gjMA4BQwngEAfoAzAMAPcAYA+AHOAAA/wBkA4Ac4AwD8MM81jwNnAMAp4DNNAOAHOAMA/ABnAIAf4AwA8MMlzqh3L3ab6Ca3S9pfc8T31b8SazJGeWJyK/nRloWjgTGM65z5D5vlAemNxMQx5Qz5OD//4ShfzAMYHBc54y1Y4e87659ploVoyZtKb4Gfn4/ZmY6i1A1izxkEMV20QpFdSe9TssvrtYC4OH+vmQQhmOuXdJ2xS5sb7/cPeokv1rpfZDm94BkxSbhUrlxred4358Qzh3tKFD/bL0Cpuxb30WKB+wRCsMAvJte0fmDr3ZSNPvQqa2J5RilzRsPtw9K3PIiJUwTzlkafZa6hPivqPbxCLjFLHJxYRC/NZ17Qk8Lrkp+OlCykL2fpetNigA4uh6twYCTjMmeCf1AFE+IY05J3hjNBAq8vsw6YnMFrfIv8syq6KLIyLXC6IPgkbk+okU35myQhV9tl1J4PF02ll5utOS6Z66G8UI8XAExeToiY1VurEt+ZKAr9obrriaHEurCm5vAywZKQnHqS1F2LXjrJdu3ovmz5NFGwSovX4szwmztRfgG1bL1KOkcU/ANeoPN2smTOLHq9vnvRiyf4pSJ/uqtPbxTNxOt7ajMDCK9P8CqWrffiVriJovD6ahZnyBtbRDP/EXe1nqTa1d8HCD38spsdXA5X4cDIxlXOEGtUhutbRPM/ye+g6LUmJ0pSa9S7vE1xpvWxpsEUMbQZ5kWJOVfbJHXVGtQWaSyrOtccEXMs4KyJXvySZRFwvNbxiiStNdT05ijnClcdyK/EO5A6LZKHHmJZykFSMQuOa6LfnOIbc16DK/jEoG1APUzDmQCB6CPVr3RNWrVaQxdls3D0NNaC5sjnP/ml6x0sHspRODCycZkzq1INfQ/j3iSkZ/SW5b/VcfNNzpAV2fEf+3qLMMIpbm87dgY9uX+K9HuH2RV1fmhnbBaCtbTdS7JZbizGE+bFkE20lqq+/Nh3gUAwz0eWTPfN7kSJJrMPMcUrsvxC3Ib3vDxQR+vDOFP3qaPo+0g/Hw+BcKFE8a1t3ww9EV5kxbS+rLUvixNKHVwOZ+HASMalzlDV6e8LVhzMikTjjctIFYsz6t0+ghX71XTLM5wYMM7ciBJ6rlQxq+ex4owvR5xRK72ZHhcnbdX3y7T0i2T5Odmi8X6ZVpltIHWa+5X0499YfWWL17SFKRWU4fE9TQP9amtZWuAcYWg2ugpWnJkqUhSYjx8wznAVDoxskCbfHd+8L0TkEmeo1nNSDzxuZtb1tjiTHy2knWnVPrqauErgxgQErkZGopGPB3LGYNA+yN7+FuHODACqUla6eYWewuOQR5bxTE9RrLdgaXgO7n21a05vjc5gt0fUlP8qjqLDi+6mUoyadT1dziteoT/g5cjJuux4edpdktKd9BMK5Gcq8birJN53ujCllCqKFQlWxGPJyfqsTXMFwWxnmPGMOKVYjycDfgqyjmf6O8NVODCyQZooopPu17kmzqBRRP5WIfH/TOsSW/tmuovRHywgiMnCRQFxcRu8xJF4ZM/dmanIUiyj57W8Zfu+9FssNjWyGnrebOJk4RKZbJllOFGXvf09PE9FTPVabZ6OM0OWn1W+P1/gzsyqqUyzarprceu8cfmC13xD07A87Jk64ZtyZqVbsiwtfBk9b4ZK3ppTj3ezmTf7iT1vRg/VHPTNOAoHRjRIk2+vVo2pfwfQlyVz99p+e7irAYxVkCaq+9XYmZUrV45eZzqz5WJ5Jv44xXA73nf2NOVV+GwRGCKszty7d2/0OoMGA+ny5aijhXo4PjLo4QBDiNWZMdM3A4AhBZwBAH6AMwDAD/j+DADwA5wBAH6AMwDAD3AGAPgBzgAAP8AZAOAHOAMA/ABnAIAfSJNrRfCZJgA4DTgDAPwAZwCAH0iTnJhb2eNvgjPPCda3NYExCdIkfe4tdV7duISEhKFx5k6MOZeXmdZLMo+XpZmthjPrhOLP1b0ODx1aanJTvv2F+Urzc6wJODPWQZqcPV6J+2ZD5gz1MO7NF3xTrfkrcEJAD2lOB5KnPL+octi+H3Y1XDifSSn4PGsCzox18Hgmv3ponaGqDy83pV/CdGXJpjK5msizQYSX6elOlpygv2g5Wbjog5Rf9RR1U7lgqpLOMkHpjksE0xOZXBk4ndK72R22hS9aLfPxIBbJ1b0ogs2OLmZe0ad9iFytp6g8+XyRLHa7ZOEMN2KqV3CappdSJy8XuLu7uRGE4A1UsrUmOFXaB0olnVdWIJKmFuQf2yD2JNyIWeJQc54Nrvy0FljO0JlvcZ6d2eJAU35aCifNQDVBBb4iDvxC9o8/SM/gjZCBdvTgEmfoRm/O3NV6zk9oytVkbamteTLRNL/UYkNfuyY9SIijkCWNJU6BKXB/2fR7xnuC1ansZJPIGTeBT2JhA4lzWjpwxvNl4ZoUdQtJPj4hnfeCjEmuyYozNs5MdpemlxmYZLCTXhQFH9XoSbI8w2/uvznOT2vF4ow62UewaGN2ZRdFVmRtEglWHcHK4eRMr0jRlXa1VZ/f4jWNcQYy0I4iXNE3Q3Sp1prSJRtOBAjM+SwtLRVtZCW5VCu9xyuv4jGGAGeLRcfOkseGi3xRpOrLkk2UpNazi64+vIxYYbHIUZwxhyxUE39zkktHzrAzKs0yZVSiS/szPvVjzvy0VszO3GNnvkWqME8NfKVeloET6rUyzkAG2lEEPQdw+/5QzgHQGC5sFIqRFeghjRq9qe9haama5LfcJrKTvqKWhJPxSeZKsirOSd+Q5jTfVHr/M60C/feNRNusebydWfuS2Hln7EtrcJSf1oIl8610puVYylIHXNtVltpanIEMtKMIPNe8hZ5rHlpnKBI1mv9MvHhcMvdtlXkOzdJScQJy64DHQkPKyunSTetE60+Sfb05Sk/JpnAvb/vZLVtn8mSe7Mjw3J2p585Py4IVZ8ydQIrpnXokVthFVLMzkIF2NGH992ZD7AyF87XiDOZrsiwdD2tLxb382dJ0NJ5B7acwJXJ3Pj1iRvGHmPiyNBN3WcjccOGkF1h5kE3YOsNklL1h6DJqr8dL5vxxIGfubBHNNLV+Hs5w5Ke1yaVmHc/s9hEs+Sy/nt5ts7dgRbJ5PEOPl7q6reMZyEA7mnChM/QCLDZJx9nzZobbqbK3mBSs3rLkGyYH8Gc75gExiVowR85yW2cow414yUJ3N7fpohVhMp8B4wx5N1EygyDmoUE8H2e489NaYM2b1WVvZ1Zomi0OND0FKOu82VSvNSGS10x9M8hAO3pwpTOAPTeVC9BTYLhrAfADnHEx5M3oD96ns56zlkADRhPw/RlXQy+1uXgGXgRhyerEQv1w1wfgCzgDAPwAZwCAH+AMAPADnAEAfoAzAMAPcAYA+AHOAAA/wBkA4Ac4AwD8AGcAgB/gDADwA5wBAH4wzjQ2No5ramoqAwDACWpra5Ev41paWurr66uqqh49eoS2lpaWPgD4kJ2d/eyF3AFGJMXFxXfv3r1///7Dhw8rKyuRKc3NzePa2tqQOugPFHeQOZUAT3Jycp69kOF+gAIOQbagcILeIxRk0EBGr9f//xGjwoeraKoKAAAAAElFTkSuQmCC)\n",
        "\n",
        "![image.png](data:image/png;base64,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)"
      ]
    }
  ]
}